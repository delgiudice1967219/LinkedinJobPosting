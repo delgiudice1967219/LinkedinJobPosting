{
 "cells": [
  {
   "metadata": {},
   "cell_type": "markdown",
   "source": "## Install and import packages",
   "id": "e727738360212951"
  },
  {
   "cell_type": "code",
   "id": "initial_id",
   "metadata": {
    "collapsed": true,
    "ExecuteTime": {
     "end_time": "2025-03-31T17:29:49.564498Z",
     "start_time": "2025-03-31T17:29:48.593765Z"
    }
   },
   "source": "%pip install pandas numpy psycopg2 ipywidgets",
   "outputs": [
    {
     "name": "stdout",
     "output_type": "stream",
     "text": [
      "Requirement already satisfied: pandas in c:\\users\\xavie\\pycharmprojects\\linkedinjobposting\\.venv\\lib\\site-packages (2.2.3)\n",
      "Requirement already satisfied: numpy in c:\\users\\xavie\\pycharmprojects\\linkedinjobposting\\.venv\\lib\\site-packages (2.2.4)\n",
      "Requirement already satisfied: psycopg2 in c:\\users\\xavie\\pycharmprojects\\linkedinjobposting\\.venv\\lib\\site-packages (2.9.10)\n",
      "Requirement already satisfied: ipywidgets in c:\\users\\xavie\\pycharmprojects\\linkedinjobposting\\.venv\\lib\\site-packages (8.1.5)\n",
      "Requirement already satisfied: python-dateutil>=2.8.2 in c:\\users\\xavie\\pycharmprojects\\linkedinjobposting\\.venv\\lib\\site-packages (from pandas) (2.9.0.post0)\n",
      "Requirement already satisfied: pytz>=2020.1 in c:\\users\\xavie\\pycharmprojects\\linkedinjobposting\\.venv\\lib\\site-packages (from pandas) (2025.1)\n",
      "Requirement already satisfied: tzdata>=2022.7 in c:\\users\\xavie\\pycharmprojects\\linkedinjobposting\\.venv\\lib\\site-packages (from pandas) (2025.2)\n",
      "Requirement already satisfied: comm>=0.1.3 in c:\\users\\xavie\\pycharmprojects\\linkedinjobposting\\.venv\\lib\\site-packages (from ipywidgets) (0.2.2)\n",
      "Requirement already satisfied: ipython>=6.1.0 in c:\\users\\xavie\\pycharmprojects\\linkedinjobposting\\.venv\\lib\\site-packages (from ipywidgets) (8.34.0)\n",
      "Requirement already satisfied: traitlets>=4.3.1 in c:\\users\\xavie\\pycharmprojects\\linkedinjobposting\\.venv\\lib\\site-packages (from ipywidgets) (5.14.3)\n",
      "Requirement already satisfied: widgetsnbextension~=4.0.12 in c:\\users\\xavie\\pycharmprojects\\linkedinjobposting\\.venv\\lib\\site-packages (from ipywidgets) (4.0.13)\n",
      "Requirement already satisfied: jupyterlab-widgets~=3.0.12 in c:\\users\\xavie\\pycharmprojects\\linkedinjobposting\\.venv\\lib\\site-packages (from ipywidgets) (3.0.13)\n",
      "Requirement already satisfied: colorama in c:\\users\\xavie\\pycharmprojects\\linkedinjobposting\\.venv\\lib\\site-packages (from ipython>=6.1.0->ipywidgets) (0.4.6)\n",
      "Requirement already satisfied: decorator in c:\\users\\xavie\\pycharmprojects\\linkedinjobposting\\.venv\\lib\\site-packages (from ipython>=6.1.0->ipywidgets) (5.2.1)\n",
      "Requirement already satisfied: exceptiongroup in c:\\users\\xavie\\pycharmprojects\\linkedinjobposting\\.venv\\lib\\site-packages (from ipython>=6.1.0->ipywidgets) (1.2.2)\n",
      "Requirement already satisfied: jedi>=0.16 in c:\\users\\xavie\\pycharmprojects\\linkedinjobposting\\.venv\\lib\\site-packages (from ipython>=6.1.0->ipywidgets) (0.19.2)\n",
      "Requirement already satisfied: matplotlib-inline in c:\\users\\xavie\\pycharmprojects\\linkedinjobposting\\.venv\\lib\\site-packages (from ipython>=6.1.0->ipywidgets) (0.1.7)\n",
      "Requirement already satisfied: prompt_toolkit<3.1.0,>=3.0.41 in c:\\users\\xavie\\pycharmprojects\\linkedinjobposting\\.venv\\lib\\site-packages (from ipython>=6.1.0->ipywidgets) (3.0.50)\n",
      "Requirement already satisfied: pygments>=2.4.0 in c:\\users\\xavie\\pycharmprojects\\linkedinjobposting\\.venv\\lib\\site-packages (from ipython>=6.1.0->ipywidgets) (2.19.1)\n",
      "Requirement already satisfied: stack_data in c:\\users\\xavie\\pycharmprojects\\linkedinjobposting\\.venv\\lib\\site-packages (from ipython>=6.1.0->ipywidgets) (0.6.3)\n",
      "Requirement already satisfied: typing_extensions>=4.6 in c:\\users\\xavie\\pycharmprojects\\linkedinjobposting\\.venv\\lib\\site-packages (from ipython>=6.1.0->ipywidgets) (4.12.2)\n",
      "Requirement already satisfied: six>=1.5 in c:\\users\\xavie\\pycharmprojects\\linkedinjobposting\\.venv\\lib\\site-packages (from python-dateutil>=2.8.2->pandas) (1.17.0)\n",
      "Requirement already satisfied: parso<0.9.0,>=0.8.4 in c:\\users\\xavie\\pycharmprojects\\linkedinjobposting\\.venv\\lib\\site-packages (from jedi>=0.16->ipython>=6.1.0->ipywidgets) (0.8.4)\n",
      "Requirement already satisfied: wcwidth in c:\\users\\xavie\\pycharmprojects\\linkedinjobposting\\.venv\\lib\\site-packages (from prompt_toolkit<3.1.0,>=3.0.41->ipython>=6.1.0->ipywidgets) (0.2.13)\n",
      "Requirement already satisfied: executing>=1.2.0 in c:\\users\\xavie\\pycharmprojects\\linkedinjobposting\\.venv\\lib\\site-packages (from stack_data->ipython>=6.1.0->ipywidgets) (2.2.0)\n",
      "Requirement already satisfied: asttokens>=2.1.0 in c:\\users\\xavie\\pycharmprojects\\linkedinjobposting\\.venv\\lib\\site-packages (from stack_data->ipython>=6.1.0->ipywidgets) (3.0.0)\n",
      "Requirement already satisfied: pure-eval in c:\\users\\xavie\\pycharmprojects\\linkedinjobposting\\.venv\\lib\\site-packages (from stack_data->ipython>=6.1.0->ipywidgets) (0.2.3)\n",
      "Note: you may need to restart the kernel to use updated packages.\n"
     ]
    },
    {
     "name": "stderr",
     "output_type": "stream",
     "text": [
      "\n",
      "[notice] A new release of pip is available: 23.0.1 -> 25.0.1\n",
      "[notice] To update, run: C:\\Users\\XavierDelGiudice\\AppData\\Local\\Programs\\Python\\Python310\\python.exe -m pip install --upgrade pip\n"
     ]
    }
   ],
   "execution_count": 4
  },
  {
   "metadata": {
    "ExecuteTime": {
     "end_time": "2025-04-02T06:45:49.449794Z",
     "start_time": "2025-04-02T06:45:48.995117Z"
    }
   },
   "cell_type": "code",
   "source": [
    "import time\n",
    "import ipywidgets as widgets\n",
    "import psycopg2\n",
    "from IPython.display import display\n",
    "import re\n",
    "import pandas as pd"
   ],
   "id": "b136ac5d03729a64",
   "outputs": [],
   "execution_count": 1
  },
  {
   "metadata": {},
   "cell_type": "markdown",
   "source": "## Connect to DB",
   "id": "1c3c24c10418ab0d"
  },
  {
   "metadata": {
    "ExecuteTime": {
     "end_time": "2025-04-02T08:20:54.078699Z",
     "start_time": "2025-04-02T08:20:54.072193Z"
    }
   },
   "cell_type": "code",
   "source": [
    "DB_NAME = \"Linkedin\"\n",
    "DB_USER = \"postgres\"\n",
    "DB_PASS = \"Sapienza\"\n",
    "DB_HOST = \"localhost\"\n",
    "DB_PORT = \"5432\"\n",
    "\n",
    "\n",
    "def get_db_connection():\n",
    "    return psycopg2.connect(\n",
    "        dbname=DB_NAME, user=DB_USER, password=DB_PASS,\n",
    "        host=DB_HOST, port=DB_PORT)"
   ],
   "id": "f649eb374c2c8aea",
   "outputs": [],
   "execution_count": 14
  },
  {
   "metadata": {
    "ExecuteTime": {
     "end_time": "2025-04-02T08:20:57.239282Z",
     "start_time": "2025-04-02T08:20:57.060664Z"
    }
   },
   "cell_type": "code",
   "source": [
    "conn = get_db_connection()\n",
    "cur = conn.cursor()\n",
    "cur.execute('''SELECT DISTINCT \"FORMATTED_EXPERIENCE_LEVEL\" FROM public.\"POSTING\" WHERE \"FORMATTED_EXPERIENCE_LEVEL\" IS NOT NULL ORDER BY \"FORMATTED_EXPERIENCE_LEVEL\" ASC''')\n",
    "experience_levels = [row[0] for row in cur.fetchall()]\n",
    "cur.close()\n",
    "\n",
    "len(experience_levels)"
   ],
   "id": "bbc0d4dcce0eb5c7",
   "outputs": [
    {
     "data": {
      "text/plain": [
       "6"
      ]
     },
     "execution_count": 15,
     "metadata": {},
     "output_type": "execute_result"
    }
   ],
   "execution_count": 15
  },
  {
   "metadata": {},
   "cell_type": "markdown",
   "source": "Distinct is not very performant then if ww do not have duplicate rows into this column we can also avoid to use the DISTINCT statement",
   "id": "91d9ac685cfde874"
  },
  {
   "metadata": {},
   "cell_type": "markdown",
   "source": "## Insert your personal information",
   "id": "105ead5dca05cad6"
  },
  {
   "metadata": {},
   "cell_type": "markdown",
   "source": "We prefered to use the like concat instead that equals or not equals in order to extract meaningful information also if we do not correctly insert the exact value in the where condition",
   "id": "94ada0378cce4cd0"
  },
  {
   "metadata": {
    "ExecuteTime": {
     "end_time": "2025-04-02T06:47:01.032741Z",
     "start_time": "2025-04-02T06:47:00.936669Z"
    }
   },
   "cell_type": "code",
   "source": [
    "conn = get_db_connection()\n",
    "cur = conn.cursor()\n",
    "\n",
    "cur.execute('''SELECT DISTINCT \"FORMATTED_EXPERIENCE_LEVEL\" FROM public.\"POSTING\" WHERE \"FORMATTED_EXPERIENCE_LEVEL\" IS NOT NULL ORDER BY \"FORMATTED_EXPERIENCE_LEVEL\" ASC''')\n",
    "experience_levels = [row[0] for row in cur.fetchall()]\n",
    "cur.close()\n",
    "\n",
    "cur = conn.cursor()\n",
    "cur.execute('''SELECT DISTINCT \"ID\", \"SKILL_NAME\" FROM public.\"SKILL\" WHERE \"SKILL_NAME\" IS NOT NULL ORDER BY \"SKILL_NAME\" ASC''')\n",
    "skill_data = cur.fetchall()\n",
    "skill_dict = {row[1]: row[0] for row in skill_data}\n",
    "skill_names = list(skill_dict.keys())\n",
    "cur.close()\n",
    "\n",
    "email_pattern = r'^[a-zA-Z0-9._%+-]+@[a-zA-Z0-9.-]+\\.[a-zA-Z]{2,}$'\n",
    "\n",
    "# Widget creation\n",
    "name_input = widgets.Text(placeholder=\"Insert your name\")\n",
    "surname_input = widgets.Text(placeholder=\"Insert your surname\")\n",
    "email_input = widgets.Text(placeholder=\"Insert your email\")\n",
    "experience_input = widgets.Dropdown(options=experience_levels, description=\"Experience:\")\n",
    "skill_input = widgets.SelectMultiple(\n",
    "    options=skill_names,\n",
    "    description=\"Skills:\",\n",
    "    rows=10\n",
    ")\n",
    "\n",
    "button = widgets.Button(description=\"Insert Data\", button_style=\"success\")\n",
    "output = widgets.Output()\n",
    "\n",
    "def insert_data(b):\n",
    "    with output:\n",
    "        output.clear_output()\n",
    "        name = name_input.value\n",
    "        surname = surname_input.value\n",
    "        email = email_input.value\n",
    "        experience = experience_input.value\n",
    "        selected_skills = skill_input.value\n",
    "        \n",
    "        # Validazione email\n",
    "        if not re.match(email_pattern, email):\n",
    "            print(\"Warning: Invalid email format. Please enter a valid email address.\")\n",
    "            email_input.value = \"\"\n",
    "            return\n",
    "        \n",
    "        try:\n",
    "            cur = conn.cursor()\n",
    "            # Inserimento utente\n",
    "            query_user = '''INSERT INTO public.\"USERS\" (\"NAME\", \"SURNAME\", \"MAIL\", \"EXPERIENCE\") \n",
    "                            VALUES (%s, %s, %s, %s) RETURNING \"ID\"'''\n",
    "            cur.execute(query_user, (name, surname, email, experience))\n",
    "            user_id = cur.fetchone()[0]  # Recupero USER_ID\n",
    "            conn.commit()\n",
    "            \n",
    "            # Inserimento skill per l'utente\n",
    "            if selected_skills:\n",
    "                query_skill = '''INSERT INTO public.\"USER_SKILL\" (\"USER_ID\", \"SKILL_ID\") VALUES (%s, %s)'''\n",
    "                for skill_name in selected_skills:\n",
    "                    skill_id = skill_dict[skill_name]\n",
    "                    cur.execute(query_skill, (user_id, skill_id))\n",
    "                \n",
    "                conn.commit()\n",
    "            \n",
    "            cur.close()\n",
    "            print(\"Data inserted successfully!\")\n",
    "        except Exception as e:\n",
    "            print(f\"Error while connecting to database: {e}\")\n",
    "\n",
    "# Collegamento del bottone all'evento\n",
    "button.on_click(insert_data)\n",
    "\n",
    "# Visualizzazione dei widget\n",
    "display(widgets.VBox([\n",
    "    widgets.Label(\"Name:\"), name_input,\n",
    "    widgets.Label(\"Surname:\"), surname_input,\n",
    "    widgets.Label(\"Email:\"), email_input,\n",
    "    experience_input,\n",
    "    skill_input,\n",
    "    button, output\n",
    "]))"
   ],
   "id": "d2c9bf963565068c",
   "outputs": [
    {
     "data": {
      "text/plain": [
       "VBox(children=(Label(value='Name:'), Text(value='', placeholder='Insert your name'), Label(value='Surname:'), …"
      ],
      "application/vnd.jupyter.widget-view+json": {
       "version_major": 2,
       "version_minor": 0,
       "model_id": "ac20afe220634de6aa5ad3fac6538e8d"
      }
     },
     "metadata": {},
     "output_type": "display_data"
    }
   ],
   "execution_count": 6
  },
  {
   "metadata": {},
   "cell_type": "markdown",
   "source": "## Some interesting insight/question that can be extracted from data:\n",
   "id": "2ffdefce22781028"
  },
  {
   "metadata": {},
   "cell_type": "markdown",
   "source": "Most In-Demand Job Titles",
   "id": "d5666c9eceb456e8"
  },
  {
   "metadata": {},
   "cell_type": "markdown",
   "source": [
    "```SQL \n",
    "SELECT \"job_title\", COUNT(*) AS num_postings\n",
    "FROM public.\"postings\"\n",
    "GROUP BY \"job_title\"\n",
    "ORDER BY num_postings DESC\n",
    "LIMIT 10;\n",
    "```"
   ],
   "id": "c76e32ee2ce45f52"
  },
  {
   "metadata": {},
   "cell_type": "markdown",
   "source": "Most Hiring Companies",
   "id": "42e33b90ef09e895"
  },
  {
   "metadata": {},
   "cell_type": "markdown",
   "source": [
    "```SQL \n",
    "SELECT \"company_name\", COUNT(*) AS num_postings\n",
    "FROM public.\"postings\"\n",
    "GROUP BY \"company_name\"\n",
    "ORDER BY num_postings DESC\n",
    "LIMIT 10;\n",
    "```"
   ],
   "id": "b49203232f86a747"
  },
  {
   "metadata": {},
   "cell_type": "markdown",
   "source": "Job Locations with Highest Demand",
   "id": "e59342056bb68576"
  },
  {
   "metadata": {},
   "cell_type": "markdown",
   "source": [
    "```SQL \n",
    "SELECT \"job_location\", COUNT(*) AS num_postings\n",
    "FROM public.\"postings\"\n",
    "GROUP BY \"job_location\"\n",
    "ORDER BY num_postings DESC\n",
    "LIMIT 10;\n",
    "```"
   ],
   "id": "28fad672b443617e"
  },
  {
   "metadata": {},
   "cell_type": "markdown",
   "source": "Average Salary for Each Job Title (if salary info is available)",
   "id": "a5830c46fca2044d"
  },
  {
   "metadata": {},
   "cell_type": "markdown",
   "source": [
    "```SQL \n",
    "SELECT \"job_title\", AVG(\"salary\") AS avg_salary\n",
    "FROM public.\"postings\"\n",
    "WHERE \"salary\" IS NOT NULL\n",
    "GROUP BY \"job_title\"\n",
    "ORDER BY avg_salary DESC\n",
    "LIMIT 10;\n",
    "```"
   ],
   "id": "61e83d5e3f37b63e"
  },
  {
   "metadata": {},
   "cell_type": "markdown",
   "source": "Remote vs On-Site Jobs",
   "id": "8fbb088b8660d9cb"
  },
  {
   "metadata": {},
   "cell_type": "markdown",
   "source": [
    "```SQL\n",
    "SELECT \"work_type\", COUNT(*) AS num_postings\n",
    "FROM public.\"postings\"\n",
    "WHERE \"work_type\" IN ('Remote', 'On-site')\n",
    "GROUP BY \"work_type\";\n",
    "```"
   ],
   "id": "d5177e5dafe8d450"
  },
  {
   "metadata": {},
   "cell_type": "markdown",
   "source": "Most Common Skills Required",
   "id": "a2c1e24f5cff93e2"
  },
  {
   "metadata": {},
   "cell_type": "markdown",
   "source": [
    "```SQL\n",
    "SELECT \"skills\", COUNT(*) AS num_occurrences\n",
    "FROM public.\"postings\"\n",
    "WHERE \"skills\" IS NOT NULL\n",
    "GROUP BY \"skills\"\n",
    "ORDER BY num_occurrences DESC\n",
    "LIMIT 10;\n",
    "```"
   ],
   "id": "6b4265d0a9727883"
  },
  {
   "metadata": {},
   "cell_type": "markdown",
   "source": "",
   "id": "277652d29ab143f5"
  },
  {
   "metadata": {},
   "cell_type": "markdown",
   "source": "## 1. Select all the posting job for company name given by input and with requested location and for a specific job location ricorda che devo mettere l upper in entrambi input e match",
   "id": "86aa842de9f799f3"
  },
  {
   "metadata": {
    "ExecuteTime": {
     "end_time": "2025-04-02T06:48:22.045827Z",
     "start_time": "2025-04-02T06:48:22.018389Z"
    }
   },
   "cell_type": "code",
   "source": [
    "company_input = widgets.Text(placeholder=\"Insert the company name\")\n",
    "location_input = widgets.Text(placeholder=\"Insert the preferred location\")\n",
    "job_title_input = widgets.Text(placeholder=\"Insert the job title\")\n",
    "search_button = widgets.Button(description=\"Look for job posting\", button_style=\"primary\")\n",
    "output = widgets.Output()\n",
    "\n",
    "\n",
    "def search_jobs(b):\n",
    "    with output:\n",
    "        output.clear_output()\n",
    "        company = company_input.value.strip() or None\n",
    "        location = location_input.value.strip() or None\n",
    "        job_title = job_title_input.value.strip() or None\n",
    "\n",
    "        conn = None\n",
    "\n",
    "        try:\n",
    "            conn = get_db_connection()\n",
    "            cur = conn.cursor()\n",
    "\n",
    "            query = '''\n",
    "            SELECT \"JOB_ID\", \"COMPANY_NAME\", \"LOCATION\", \"TITLE\" FROM public.\"POSTING\"\n",
    "            WHERE (%s IS NULL OR UPPER(\"COMPANY_NAME\") ILIKE UPPER(%s)) \n",
    "            AND (%s IS NULL OR UPPER(\"LOCATION\") ILIKE UPPER(%s)) \n",
    "            AND (%s IS NULL OR UPPER(\"TITLE\") ILIKE UPPER(%s))\n",
    "            ORDER BY \"JOB_ID\" ASC\n",
    "            LIMIT 10;\n",
    "            '''\n",
    "\n",
    "            # Prepare parameters\n",
    "            params = (\n",
    "                company, f\"%{company}%\" if company else None,\n",
    "                location, f\"%{location}%\" if location else None,\n",
    "                job_title, f\"%{job_title}%\" if job_title else None\n",
    "            )\n",
    "\n",
    "            cur.execute(query, params)\n",
    "            rows = cur.fetchall()\n",
    "\n",
    "            # Close cursor before processing results\n",
    "            cur.close()\n",
    "            conn.close()\n",
    "\n",
    "            if rows:\n",
    "                df = pd.DataFrame(rows, columns=[\"JOB_ID\", \"COMPANY_NAME\", \"LOCATION\", \"TITLE\"])\n",
    "                display(df)\n",
    "            else:\n",
    "                print(\"No job postings found with the selected parameters.\")\n",
    "\n",
    "        except psycopg2.Error as e:\n",
    "            if conn:\n",
    "                conn.rollback()\n",
    "            print(f\"Database error: {e}\")\n",
    "\n",
    "        except Exception as e:\n",
    "            print(f\"Unexpected error: {e}\")\n",
    "\n",
    "        finally:\n",
    "            if conn:\n",
    "                conn.close()\n",
    "\n",
    "\n",
    "search_button.on_click(search_jobs)\n",
    "\n",
    "display(widgets.VBox([\n",
    "    widgets.Label(\"Company Name:\"), company_input,\n",
    "    widgets.Label(\"Location:\"), location_input,\n",
    "    widgets.Label(\"Job Title:\"), job_title_input,\n",
    "    search_button, output\n",
    "]))"
   ],
   "id": "55beb3d71179fd93",
   "outputs": [
    {
     "data": {
      "text/plain": [
       "VBox(children=(Label(value='Company Name:'), Text(value='', placeholder='Insert the company name'), Label(valu…"
      ],
      "application/vnd.jupyter.widget-view+json": {
       "version_major": 2,
       "version_minor": 0,
       "model_id": "0b443ce6cedc4742abcd7165393de27d"
      }
     },
     "metadata": {},
     "output_type": "display_data"
    }
   ],
   "execution_count": 7
  },
  {
   "metadata": {},
   "cell_type": "markdown",
   "source": "## 2. Select all the job postings for the TechGiant (more than 500 employees and in the IT industry) DA IMPLEMENTARE SICURAMENTE",
   "id": "9094811d45f0acf0"
  },
  {
   "metadata": {
    "ExecuteTime": {
     "end_time": "2025-04-02T07:02:34.489444Z",
     "start_time": "2025-04-02T07:02:34.458418Z"
    }
   },
   "cell_type": "code",
   "source": [
    "# Create input fields\n",
    "industry_input = widgets.Text(placeholder=\"Insert the Industry domain\")\n",
    "company_input = widgets.Text(placeholder=\"Insert the company name\")\n",
    "search_button = widgets.Button(description=\"Look for job posting\", button_style=\"primary\")\n",
    "output = widgets.Output()\n",
    "\n",
    "\n",
    "# Function to search jobs in TechGiant companies\n",
    "def search_jobs(b):\n",
    "    with output:\n",
    "        output.clear_output()\n",
    "        company = company_input.value.strip() or None\n",
    "        industry = industry_input.value.strip() or None\n",
    "\n",
    "        conn = None\n",
    "\n",
    "        try:\n",
    "            conn = get_db_connection()\n",
    "            cur = conn.cursor()\n",
    "\n",
    "            query = '''\n",
    "            SELECT P.\"COMPANY_NAME\", P.\"VIEWS\", P.\"PAY_PERIOD\", P.\"APPLIES\", P.\"EXPIRY\", CI.\"INDUSTRY\"\n",
    "            FROM public.\"POSTING\" as P \n",
    "            JOIN public.\"COMPANY_INDUSTRY\" as CI ON P.\"COMPANY_ID\" = CI.\"COMPANY_ID\"\n",
    "            JOIN public.\"EMPLOYEE_COUNTS\" as EC ON P.\"COMPANY_ID\" = EC.\"COMPANY_ID\" \n",
    "            WHERE EC.\"EMPLOYEE_COUNT\" > 2000 \n",
    "            AND \"VIEWS\" IS NOT NULL\n",
    "            AND (%s IS NULL OR CI.\"INDUSTRY\" ILIKE %s)\n",
    "            AND (%s IS NULL OR P.\"COMPANY_NAME\" ILIKE %s) \n",
    "            ORDER BY \"VIEWS\" DESC\n",
    "            LIMIT 20;\n",
    "            '''\n",
    "\n",
    "            # Prepare parameters (matching the placeholders)\n",
    "            params = (\n",
    "                industry, f\"%{industry}%\" if industry else None,\n",
    "                company, f\"%{company}%\" if company else None\n",
    "            )\n",
    "\n",
    "            cur.execute(query, params)\n",
    "            rows = cur.fetchall()\n",
    "\n",
    "            # Close cursor before processing results\n",
    "            cur.close()\n",
    "            conn.close()\n",
    "\n",
    "            if rows:\n",
    "                df = pd.DataFrame(rows,\n",
    "                                  columns=[\"COMPANY_NAME\", \"VIEWS\", \"PAY_PERIOD\", \"APPLIES\", \"EXPIRY\", \"INDUSTRY\"])\n",
    "                display(df)\n",
    "            else:\n",
    "                print(\"No job postings found for TechGiant companies.\")\n",
    "\n",
    "        except psycopg2.Error as e:\n",
    "            if conn:\n",
    "                conn.rollback()  # Reset transaction state on error\n",
    "            print(f\"Database error: {e}\")\n",
    "\n",
    "        except Exception as e:\n",
    "            print(f\"Unexpected error: {e}\")\n",
    "\n",
    "        finally:\n",
    "            if conn:\n",
    "                conn.close()\n",
    "\n",
    "\n",
    "# Bind function to button click\n",
    "search_button.on_click(search_jobs)\n",
    "\n",
    "# Display UI\n",
    "display(widgets.VBox([\n",
    "    widgets.Label(\"Industry:\"), industry_input,\n",
    "    widgets.Label(\"Company Name:\"), company_input,\n",
    "    search_button, output\n",
    "]))"
   ],
   "id": "54ebbf7f9aaff39e",
   "outputs": [
    {
     "data": {
      "text/plain": [
       "VBox(children=(Label(value='Industry:'), Text(value='', placeholder='Insert the Industry domain'), Label(value…"
      ],
      "application/vnd.jupyter.widget-view+json": {
       "version_major": 2,
       "version_minor": 0,
       "model_id": "0ed37b5cb51d461b811264c0c3a11947"
      }
     },
     "metadata": {},
     "output_type": "display_data"
    }
   ],
   "execution_count": 8
  },
  {
   "metadata": {},
   "cell_type": "markdown",
   "source": [
    "## 3. Select all the companies and job position requested which salary is between two values given by input. Add info such as, all the part-time with USD payment and Monthly pay period, I want also to select the industry and the job should match at least 1 of my skill, order by number of skill matched\n",
    "\n",
    "Considering today is today but one year early select all the active job postings that allows for remote working, that pay in USD, from companies with name given by input and that respect the characteristics of the logged user DA INTEGRARE CON LA 4"
   ],
   "id": "71352120c63bbcde"
  },
  {
   "metadata": {
    "ExecuteTime": {
     "end_time": "2025-04-02T08:25:17.878791Z",
     "start_time": "2025-04-02T08:25:17.825712Z"
    }
   },
   "cell_type": "code",
   "source": [
    "from ipywidgets import widgets, VBox, Label\n",
    "\n",
    "def fetch_users():\n",
    "    conn = get_db_connection()\n",
    "    cur = conn.cursor()\n",
    "    cur.execute('SELECT \"ID\", \"NAME\", \"SURNAME\", \"MAIL\" FROM public.\"USERS\" ORDER BY \"NAME\";')\n",
    "    users = cur.fetchall()\n",
    "    cur.close()\n",
    "    conn.close()\n",
    "    user_dict = {f\"{name} {surname} ({email})\": user_id for user_id, name, surname, email in users}\n",
    "    return user_dict\n",
    "\n",
    "user_dict = fetch_users()\n",
    "user_dropdown = widgets.Dropdown(\n",
    "    options=[(\"Select a user\", None)] + list(user_dict.items()),\n",
    "    description=\"User:\",\n",
    "    style={\"description_width\": \"auto\"}\n",
    ")\n",
    "\n",
    "currency_input = widgets.Text(placeholder=\"Currency (e.g., USD)\", description=\"Currency:\")\n",
    "job_type_input = widgets.Text(placeholder=\"Job Type (e.g., Part-time)\", description=\"Job Type:\")\n",
    "pay_period_input = widgets.Text(placeholder=\"Pay Period (e.g., Monthly)\", description=\"Pay Period:\")\n",
    "industry_input = widgets.Text(placeholder=\"Industry (e.g., Tech)\", description=\"Industry:\")\n",
    "company_input = widgets.Text(placeholder=\"Company Name\", description=\"Company:\")\n",
    "\n",
    "salary_slider = widgets.IntRangeSlider(\n",
    "    value=[0, 100000],\n",
    "    min=0,\n",
    "    max=100000,\n",
    "    step=100,\n",
    "    description=\"Salary Range:\",\n",
    "    continuous_update=False\n",
    ")\n",
    "\n",
    "search_button = widgets.Button(description=\"Look for job postings\", button_style=\"primary\")\n",
    "output = widgets.Output()\n",
    "\n",
    "def search_jobs(b):\n",
    "    with output:\n",
    "        output.clear_output()\n",
    "        currency = currency_input.value.strip() or None\n",
    "        job_type = job_type_input.value.strip() or None\n",
    "        pay_period = pay_period_input.value.strip() or None\n",
    "        industry = industry_input.value.strip() or None\n",
    "        company = company_input.value.strip() or None\n",
    "        min_salary, max_salary = salary_slider.value\n",
    "\n",
    "        selected_user = user_dropdown.value\n",
    "        if not selected_user:\n",
    "            print(\"Please select a user before searching for jobs.\")\n",
    "            return\n",
    "\n",
    "        conn = None\n",
    "\n",
    "        try:\n",
    "            conn = get_db_connection()\n",
    "            cur = conn.cursor()\n",
    "\n",
    "            query = '''\n",
    "            SELECT \n",
    "                p.\"COMPANY_NAME\",\n",
    "                p.\"TITLE\",\n",
    "                p.\"PAY_PERIOD\",\n",
    "                p.\"CURRENCY\",\n",
    "                p.\"WORK_TYPE\",\n",
    "                s.\"MIN_SALARY\",\n",
    "                s.\"MAX_SALARY\",\n",
    "                i.\"NAME\" AS industry\n",
    "            FROM public.\"POSTING\" p\n",
    "            JOIN public.\"SALARIES\" s ON p.\"JOB_ID\" = s.\"JOB_ID\"\n",
    "            JOIN public.\"JOB_INDUSTRIES\" ji ON p.\"JOB_ID\" = ji.\"JOB_ID\"\n",
    "            JOIN public.\"INDUSTRIES\" i ON ji.\"INDUSTRY_ID\" = i.\"ID\"\n",
    "            LEFT JOIN (\n",
    "                SELECT js.\"JOB_ID\", COUNT(*) AS skill_match_count\n",
    "                FROM public.\"JOB_SKILLS\" js\n",
    "                JOIN public.\"USER_SKILL\" us ON js.\"SKILL_ABR\" = (\n",
    "                    SELECT \"SKILL_ABR\" FROM public.\"SKILL\" WHERE \"ID\" = us.\"SKILL_ID\"\n",
    "                )\n",
    "                WHERE us.\"USER_ID\" = %s\n",
    "                GROUP BY js.\"JOB_ID\"\n",
    "            ) jsm ON p.\"JOB_ID\" = jsm.\"JOB_ID\"\n",
    "            WHERE \n",
    "                p.\"EXPIRY\" >= (EXTRACT(EPOCH FROM NOW()) - (365 * 24 * 60 * 60)) * 1000\n",
    "                AND (%s IS NULL OR p.\"CURRENCY\" ILIKE %s)\n",
    "                AND (%s IS NULL OR p.\"WORK_TYPE\" ILIKE %s)\n",
    "                AND (%s IS NULL OR p.\"PAY_PERIOD\" ILIKE %s)\n",
    "                AND (%s IS NULL OR p.\"COMPANY_NAME\" ILIKE %s)\n",
    "                AND (%s IS NULL OR i.\"NAME\" ILIKE %s)\n",
    "                AND (s.\"MIN_SALARY\" >= %s)\n",
    "                AND (s.\"MAX_SALARY\" <= %s)\n",
    "            ORDER BY skill_match_count DESC\n",
    "            LIMIT 20;\n",
    "            '''\n",
    "\n",
    "            params = (\n",
    "                selected_user,\n",
    "                currency, f\"%{currency}%\" if currency else None,\n",
    "                job_type, f\"%{job_type}%\" if job_type else None,\n",
    "                pay_period, f\"%{pay_period}%\" if pay_period else None,\n",
    "                company, f\"%{company}%\" if company else None,\n",
    "                industry, f\"%{industry}%\" if industry else None,\n",
    "                min_salary,\n",
    "                max_salary\n",
    "            )\n",
    "\n",
    "            start_time = time.time()\n",
    "            cur.execute(query, params)\n",
    "            rows = cur.fetchall()\n",
    "            end_time = time.time()\n",
    "            \n",
    "            execution_time = end_time - start_time\n",
    "\n",
    "            cur.close()\n",
    "            conn.close()\n",
    "\n",
    "            print(f\"Query executed in {execution_time:.4f} seconds\")\n",
    "            \n",
    "            if rows:\n",
    "                df = pd.DataFrame(rows, columns=[\"COMPANY_NAME\", \"JOB_TITLE\", \"PAY_PERIOD\", \"CURRENCY\", \"WORK_TYPE\",\n",
    "                                                 \"MIN_SALARY\", \"MAX_SALARY\", \"INDUSTRY\"])\n",
    "                display(df)\n",
    "            else:\n",
    "                print(\"No job postings found with the given filters.\")\n",
    "\n",
    "        except psycopg2.Error as e:\n",
    "            if conn:\n",
    "                conn.rollback()\n",
    "            print(f\"Database error: {e}\")\n",
    "\n",
    "        except Exception as e:\n",
    "            print(f\"Unexpected error: {e}\")\n",
    "\n",
    "        finally:\n",
    "            if conn:\n",
    "                conn.close()\n",
    "\n",
    "search_button.on_click(search_jobs)\n",
    "\n",
    "display(VBox([\n",
    "    Label(\"Select User:\"),\n",
    "    user_dropdown,\n",
    "    Label(\"Enter Job Filters:\"),\n",
    "    currency_input,\n",
    "    job_type_input,\n",
    "    pay_period_input,\n",
    "    industry_input,\n",
    "    company_input,\n",
    "    salary_slider,\n",
    "    search_button,\n",
    "    output\n",
    "]))"
   ],
   "id": "72cd2d6da36becc0",
   "outputs": [
    {
     "data": {
      "text/plain": [
       "VBox(children=(Label(value='Select User:'), Dropdown(description='User:', options=(('Select a user', None), ('…"
      ],
      "application/vnd.jupyter.widget-view+json": {
       "version_major": 2,
       "version_minor": 0,
       "model_id": "82a3caafd7c34ee3a21c8baa3845bb62"
      }
     },
     "metadata": {},
     "output_type": "display_data"
    }
   ],
   "execution_count": 18
  },
  {
   "metadata": {},
   "cell_type": "markdown",
   "source": "## 4. ",
   "id": "3e5199dcd9477143"
  },
  {
   "metadata": {},
   "cell_type": "code",
   "outputs": [],
   "execution_count": null,
   "source": "",
   "id": "9e86ebe8a4883f73"
  },
  {
   "metadata": {},
   "cell_type": "markdown",
   "source": "## 5. Select all the how many job postings each company has and its maximum recorded employee count. add also the ratio of growing thanks to the time column computed as the proportion of employee since the first time recorded employees count and the last, replicate also for the follower ",
   "id": "68536cbea73908d8"
  },
  {
   "metadata": {
    "ExecuteTime": {
     "end_time": "2025-04-01T11:11:22.069729Z",
     "start_time": "2025-04-01T11:11:22.038229Z"
    }
   },
   "cell_type": "code",
   "source": [
    "SELECT c.\"NAME\" AS company_name, COUNT(p.\"JOB_ID\") AS job_postings, \n",
    "       MAX(e.\"EMPLOYEE_COUNT\") AS max_employees\n",
    "FROM public.\"COMPANIES\" c\n",
    "LEFT JOIN public.\"POSTING\" p ON c.\"ID\" = p.\"COMPANY_ID\"\n",
    "LEFT JOIN public.\"EMPLOYEE_COUNTS\" e ON c.\"ID\" = e.\"COMPANY_ID\"\n",
    "GROUP BY c.\"NAME\"\n",
    "ORDER BY job_postings DESC;"
   ],
   "id": "8f9ec47dbfbcbf68",
   "outputs": [
    {
     "ename": "SyntaxError",
     "evalue": "invalid syntax (3866171482.py, line 1)",
     "output_type": "error",
     "traceback": [
      "\u001B[1;36m  Cell \u001B[1;32mIn[13], line 1\u001B[1;36m\u001B[0m\n\u001B[1;33m    SELECT c.\"NAME\" AS company_name, COUNT(p.\"JOB_ID\") AS job_postings,\u001B[0m\n\u001B[1;37m           ^\u001B[0m\n\u001B[1;31mSyntaxError\u001B[0m\u001B[1;31m:\u001B[0m invalid syntax\n"
     ]
    }
   ],
   "execution_count": 13
  },
  {
   "metadata": {
    "ExecuteTime": {
     "end_time": "2025-04-02T08:49:19.472432Z",
     "start_time": "2025-04-02T08:49:19.451766Z"
    }
   },
   "cell_type": "code",
   "source": [
    "company_name_input = widgets.Text(placeholder=\"Enter Company Name\", description=\"Company:\")\n",
    "search_button = widgets.Button(description=\"Analyze Company Growth\", button_style=\"primary\")\n",
    "output = widgets.Output()\n",
    "\n",
    "def analyze_company_growth(b):\n",
    "    with output:\n",
    "        output.clear_output()\n",
    "        company_name = company_name_input.value.strip()\n",
    "        \n",
    "        conn = None\n",
    "        try:\n",
    "            conn = get_db_connection()\n",
    "            cur = conn.cursor()\n",
    "\n",
    "            query = '''\n",
    "                    SELECT \n",
    "                    c.\"NAME\" AS company_name,\n",
    "                    jc.job_postings,\n",
    "                    eg.last_employee_count,\n",
    "                    eg.first_employee_count,\n",
    "                    eg.last_follower_count,\n",
    "                    eg.first_follower_count,\n",
    "                    CASE \n",
    "                        WHEN eg.first_employee_count = 0 THEN NULL \n",
    "                        ELSE (eg.last_employee_count - eg.first_employee_count) * 1.0 / eg.first_employee_count \n",
    "                    END AS employee_growth_ratio,\n",
    "                    CASE \n",
    "                        WHEN eg.first_follower_count = 0 THEN NULL \n",
    "                        ELSE (eg.last_follower_count - eg.first_follower_count) * 1.0 / eg.first_follower_count \n",
    "                    END AS follower_growth_ratio\n",
    "                FROM public.\"COMPANIES\" c\n",
    "                JOIN (\n",
    "                    SELECT \n",
    "                        \"COMPANY_ID\",\n",
    "                        MIN(\"EMPLOYEE_COUNT\") AS first_employee_count,\n",
    "                        MAX(\"EMPLOYEE_COUNT\") AS last_employee_count,\n",
    "                        MIN(\"FOLLOWER_COUNT\") AS first_follower_count,\n",
    "                        MAX(\"FOLLOWER_COUNT\") AS last_follower_count\n",
    "                    FROM public.\"EMPLOYEE_COUNTS\"\n",
    "                    GROUP BY \"COMPANY_ID\"\n",
    "                ) AS eg ON c.\"ID\" = eg.\"COMPANY_ID\"\n",
    "                JOIN (\n",
    "                    SELECT \"COMPANY_ID\", COUNT(*) AS job_postings\n",
    "                    FROM public.\"POSTING\"\n",
    "                    GROUP BY \"COMPANY_ID\"\n",
    "                ) AS jc ON c.\"ID\" = jc.\"COMPANY_ID\"\n",
    "                WHERE (%s IS NULL OR c.\"NAME\" ILIKE %s)\n",
    "                ORDER BY employee_growth_ratio DESC;\n",
    "            '''\n",
    "\n",
    "            params = (company_name if company_name else None, f\"%{company_name}%\" if company_name else None)\n",
    "\n",
    "            start_time = time.time()\n",
    "            cur.execute(query, params)\n",
    "            rows = cur.fetchall()\n",
    "            end_time = time.time()\n",
    "            \n",
    "            execution_time = end_time - start_time\n",
    "\n",
    "            cur.close()\n",
    "            conn.close()\n",
    "\n",
    "            print(f\"Query executed in {execution_time:.4f} seconds\")\n",
    "            \n",
    "            if rows:\n",
    "                df = pd.DataFrame(rows, columns=[\"Company Name\", \"Job Postings\", \"Max Employees\", \n",
    "                                                 \"Min Employees\", \"Max Followers\", \"Min Followers\", \n",
    "                                                 \"Employee Growth Ratio\", \"Follower Growth Ratio\"])\n",
    "                display(df)\n",
    "            else:\n",
    "                print(\"No company data found.\")\n",
    "\n",
    "        except psycopg2.Error as e:\n",
    "            if conn:\n",
    "                conn.rollback()\n",
    "            print(f\"Database error: {e}\")\n",
    "\n",
    "        except Exception as e:\n",
    "            print(f\"Unexpected error: {e}\")\n",
    "\n",
    "        finally:\n",
    "            if conn:\n",
    "                conn.close()\n",
    "\n",
    "search_button.on_click(analyze_company_growth)\n",
    "\n",
    "display(widgets.VBox([\n",
    "    widgets.Label(\"Enter a company name to filter results (leave blank for all):\"),\n",
    "    company_name_input,\n",
    "    search_button,\n",
    "    output\n",
    "]))"
   ],
   "id": "7e1bc64c205a8d22",
   "outputs": [
    {
     "data": {
      "text/plain": [
       "VBox(children=(Label(value='Enter a company name to filter results (leave blank for all):'), Text(value='', de…"
      ],
      "application/vnd.jupyter.widget-view+json": {
       "version_major": 2,
       "version_minor": 0,
       "model_id": "8d1ce263ad6f42c080c5552274f1e446"
      }
     },
     "metadata": {},
     "output_type": "display_data"
    }
   ],
   "execution_count": 23
  },
  {
   "metadata": {},
   "cell_type": "markdown",
   "source": "## 6. Select all the VOGLIO SAPERE SE NEL MIO STATO CI SONO TANTE AZIENDE DELLA MIA STESSA TIPOLOGIA(INDUSTRY) al mio stesso livello: nmumero di job posting, numero di employee e numero di follower. E CHE HANNO LE MIE STESSE SPECIALITA",
   "id": "31b69f8068d1a0e8"
  },
  {
   "metadata": {},
   "cell_type": "code",
   "outputs": [],
   "execution_count": null,
   "source": "",
   "id": "22a088b26e7d3187"
  },
  {
   "metadata": {},
   "cell_type": "markdown",
   "source": [
    "## 7. Select all the Finds the salary ranges for different industries based on job postings.\n",
    "\n",
    " I also want to know this info for industry and job title\n",
    " \n",
    "Finds job listings by country and their average salary, but only for countries with more than 10 job postings."
   ],
   "id": "aca09a225f82b24c"
  },
  {
   "metadata": {},
   "cell_type": "code",
   "outputs": [],
   "execution_count": null,
   "source": [
    "SELECT c.\"COUNTRY\", COUNT(p.\"JOB_ID\") AS total_jobs, \n",
    "       AVG(s.\"MED_SALARY\") AS avg_salary\n",
    "FROM public.\"POSTING\" p\n",
    "JOIN public.\"COMPANIES\" c ON p.\"COMPANY_ID\" = c.\"ID\"\n",
    "LEFT JOIN public.\"SALARIES\" s ON p.\"JOB_ID\" = s.\"JOB_ID\"\n",
    "GROUP BY c.\"COUNTRY\"\n",
    "HAVING COUNT(p.\"JOB_ID\") > 10\n",
    "ORDER BY avg_salary DESC;\n",
    "\n",
    "\n",
    "\n",
    "SELECT i.\"NAME\" AS industry, \n",
    "       COUNT(j.\"JOB_ID\") AS job_count, \n",
    "       AVG(s.\"MIN_SALARY\") AS avg_min_salary,\n",
    "       AVG(s.\"MED_SALARY\") AS avg_med_salary,\n",
    "       AVG(s.\"MAX_SALARY\") AS avg_max_salary\n",
    "FROM public.\"JOB_INDUSTRIES\" ji\n",
    "JOIN public.\"INDUSTRIES\" i ON ji.\"INDUSTRY_ID\" = i.\"ID\"\n",
    "JOIN public.\"SALARIES\" s ON ji.\"JOB_ID\" = s.\"JOB_ID\"\n",
    "JOIN public.\"POSTING\" j ON ji.\"JOB_ID\" = j.\"JOB_ID\"\n",
    "GROUP BY i.\"NAME\"\n",
    "ORDER BY job_count DESC;\n"
   ],
   "id": "85742f775baa438d"
  },
  {
   "metadata": {},
   "cell_type": "markdown",
   "source": [
    "## 8. Select all the ...\n",
    " calcolare la top 5 dei lavori con in percentuale più proposte di lavoro da remoto"
   ],
   "id": "44e08af27d378f83"
  },
  {
   "metadata": {},
   "cell_type": "code",
   "outputs": [],
   "execution_count": null,
   "source": "",
   "id": "bad064d98d9bf4bb"
  },
  {
   "metadata": {},
   "cell_type": "markdown",
   "source": [
    "## 9. Select all the ...\n",
    "- visualizzare i top 3 lavori con minor tempo medio per chiudere la job posting(possiamo usare anche le application per quel lavoro per calcolare quanto sia proficua quella proposta di lavoro) la piu richiesta tipologia di lavoro\n",
    "aggiungere anche quali sono le piu diffici da prendere anche considerando il rapportto applies views"
   ],
   "id": "52bdbe3e32b8886d"
  },
  {
   "metadata": {},
   "cell_type": "code",
   "outputs": [],
   "execution_count": null,
   "source": " ",
   "id": "3b26fe66f670a77c"
  },
  {
   "metadata": {},
   "cell_type": "markdown",
   "source": [
    "## 10. Finds the top 10 most in-demand skills by industry, including salary insights.\n",
    " \n",
    "aggiungere poi: non so se a livello di sql si possa fare, ma pensavo di selezionare le skill richieste per un lavoro nella top 3 dei salari retribuiti e con un esperience level = entry level"
   ],
   "id": "e4d4b38dadf8fb49"
  },
  {
   "metadata": {},
   "cell_type": "code",
   "outputs": [],
   "execution_count": null,
   "source": [
    "SELECT sk.\"SKILL_NAME\", ind.\"NAME\" AS industry, \n",
    "       COUNT(js.\"JOB_ID\") AS job_count, \n",
    "       ROUND(AVG(s.\"MED_SALARY\"), 2) AS avg_salary\n",
    "FROM public.\"JOB_SKILLS\" js\n",
    "JOIN public.\"SKILL\" sk ON js.\"SKILL_ABR\" = sk.\"SKILL_ABR\"\n",
    "JOIN public.\"JOB_INDUSTRIES\" ji ON js.\"JOB_ID\" = ji.\"JOB_ID\"\n",
    "JOIN public.\"INDUSTRIES\" ind ON ji.\"INDUSTRY_ID\" = ind.\"ID\"\n",
    "LEFT JOIN public.\"SALARIES\" s ON js.\"JOB_ID\" = s.\"JOB_ID\"\n",
    "GROUP BY sk.\"SKILL_NAME\", ind.\"NAME\"\n",
    "HAVING COUNT(js.\"JOB_ID\") > 5\n",
    "ORDER BY job_count DESC, avg_salary DESC\n",
    "LIMIT 10;\n"
   ],
   "id": "deca15b45168143"
  },
  {
   "metadata": {},
   "cell_type": "markdown",
   "source": [
    "NOTE.\n",
    "aggiungere experience_level alla tabella USER al posto di experience\n",
    "Tramite una select prendere tutti i valori della colonna FORMATTED_EXPERIENCE_LEVEL dalla tabella posting e fare in modo che durante l inserimento da PYTHON puo essere scelto un unico valore tra questi della lista\n",
    "\n",
    "aggiungere skill_id su tabella USER\n",
    "\n",
    "prendere tutte le skill possibili (nome) dalla tabella SKILL e dare la possibilita all utente di inserire le proprie skill ognuna di queste sara una riga nella tabella di appoggio che verra creata USER_SKILL\n",
    "Quando si cerca un job posting verranno visualizzate quelle che matchano almeno un numero da scegliere di skill richieste dal job (JOB_SKILLS) e quelle dell utente loggato o registrato\n",
    "\n",
    "\n",
    "\n",
    "\n"
   ],
   "id": "bc05a7038aecb59b"
  },
  {
   "metadata": {},
   "cell_type": "markdown",
   "source": [
    "Views can make the query faster allowing for temporarily queries that store huge info instead to compute it into the query itself, but these are not stored in the memory like usual table and this can cause slower access since the views are not optimized to being accessed like normal table.\n",
    "\n",
    "TRADE OFF: Faster computation of JOIN for example that can be directly stored into a virtual table, Slower access since it is not optimized for it."
   ],
   "id": "2138f84b94b1d1c1"
  }
 ],
 "metadata": {
  "kernelspec": {
   "display_name": "Python 3",
   "language": "python",
   "name": "python3"
  },
  "language_info": {
   "codemirror_mode": {
    "name": "ipython",
    "version": 2
   },
   "file_extension": ".py",
   "mimetype": "text/x-python",
   "name": "python",
   "nbconvert_exporter": "python",
   "pygments_lexer": "ipython2",
   "version": "2.7.6"
  }
 },
 "nbformat": 4,
 "nbformat_minor": 5
}
