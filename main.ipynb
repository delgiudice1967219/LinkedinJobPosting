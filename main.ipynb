{
 "cells": [
  {
   "cell_type": "code",
   "id": "initial_id",
   "metadata": {
    "collapsed": true,
    "ExecuteTime": {
     "end_time": "2025-03-31T12:20:15.607085Z",
     "start_time": "2025-03-31T12:20:10.054351Z"
    }
   },
   "source": "%pip install pandas numpy psycopg2 ipywidgets",
   "outputs": [
    {
     "name": "stdout",
     "output_type": "stream",
     "text": [
      "Requirement already satisfied: pandas in c:\\users\\xavierdelgiudice\\appdata\\local\\programs\\python\\python310\\lib\\site-packages (2.2.3)Note: you may need to restart the kernel to use updated packages.\n",
      "\n",
      "Requirement already satisfied: numpy in c:\\users\\xavierdelgiudice\\appdata\\local\\programs\\python\\python310\\lib\\site-packages (1.26.4)\n",
      "Collecting psycopg2\n",
      "  Downloading psycopg2-2.9.10-cp310-cp310-win_amd64.whl (1.2 MB)\n",
      "     ---------------------------------------- 0.0/1.2 MB ? eta -:--:--\n",
      "     ------------------- -------------------- 0.6/1.2 MB 18.2 MB/s eta 0:00:01\n",
      "     ----------------------------------- ---- 1.0/1.2 MB 22.5 MB/s eta 0:00:01\n",
      "     ----------------------------------- ---- 1.0/1.2 MB 22.5 MB/s eta 0:00:01\n",
      "     ----------------------------------- ---- 1.0/1.2 MB 22.5 MB/s eta 0:00:01\n",
      "     -------------------------------------- - 1.1/1.2 MB 5.5 MB/s eta 0:00:01\n",
      "     -------------------------------------- - 1.1/1.2 MB 5.5 MB/s eta 0:00:01\n",
      "     -------------------------------------- - 1.1/1.2 MB 5.5 MB/s eta 0:00:01\n",
      "     -------------------------------------- - 1.1/1.2 MB 5.5 MB/s eta 0:00:01\n",
      "     -------------------------------------- - 1.1/1.2 MB 5.5 MB/s eta 0:00:01\n",
      "     -------------------------------------- - 1.1/1.2 MB 5.5 MB/s eta 0:00:01\n",
      "     ---------------------------------------  1.2/1.2 MB 2.4 MB/s eta 0:00:01\n",
      "     ---------------------------------------- 1.2/1.2 MB 2.2 MB/s eta 0:00:00\n",
      "Requirement already satisfied: ipywidgets in c:\\users\\xavierdelgiudice\\appdata\\local\\programs\\python\\python310\\lib\\site-packages (8.1.5)\n",
      "Requirement already satisfied: python-dateutil>=2.8.2 in c:\\users\\xavierdelgiudice\\appdata\\roaming\\python\\python310\\site-packages (from pandas) (2.9.0.post0)\n",
      "Requirement already satisfied: tzdata>=2022.7 in c:\\users\\xavierdelgiudice\\appdata\\local\\programs\\python\\python310\\lib\\site-packages (from pandas) (2024.2)\n",
      "Requirement already satisfied: pytz>=2020.1 in c:\\users\\xavierdelgiudice\\appdata\\local\\programs\\python\\python310\\lib\\site-packages (from pandas) (2024.2)\n",
      "Requirement already satisfied: widgetsnbextension~=4.0.12 in c:\\users\\xavierdelgiudice\\appdata\\local\\programs\\python\\python310\\lib\\site-packages (from ipywidgets) (4.0.13)\n",
      "Requirement already satisfied: comm>=0.1.3 in c:\\users\\xavierdelgiudice\\appdata\\roaming\\python\\python310\\site-packages (from ipywidgets) (0.2.2)\n",
      "Requirement already satisfied: jupyterlab-widgets~=3.0.12 in c:\\users\\xavierdelgiudice\\appdata\\local\\programs\\python\\python310\\lib\\site-packages (from ipywidgets) (3.0.13)\n",
      "Requirement already satisfied: traitlets>=4.3.1 in c:\\users\\xavierdelgiudice\\appdata\\roaming\\python\\python310\\site-packages (from ipywidgets) (5.14.3)\n",
      "Requirement already satisfied: ipython>=6.1.0 in c:\\users\\xavierdelgiudice\\appdata\\roaming\\python\\python310\\site-packages (from ipywidgets) (8.29.0)\n",
      "Requirement already satisfied: prompt-toolkit<3.1.0,>=3.0.41 in c:\\users\\xavierdelgiudice\\appdata\\roaming\\python\\python310\\site-packages (from ipython>=6.1.0->ipywidgets) (3.0.48)\n",
      "Requirement already satisfied: matplotlib-inline in c:\\users\\xavierdelgiudice\\appdata\\roaming\\python\\python310\\site-packages (from ipython>=6.1.0->ipywidgets) (0.1.7)\n",
      "Requirement already satisfied: decorator in c:\\users\\xavierdelgiudice\\appdata\\roaming\\python\\python310\\site-packages (from ipython>=6.1.0->ipywidgets) (5.1.1)\n",
      "Requirement already satisfied: pygments>=2.4.0 in c:\\users\\xavierdelgiudice\\appdata\\roaming\\python\\python310\\site-packages (from ipython>=6.1.0->ipywidgets) (2.18.0)\n",
      "Requirement already satisfied: colorama in c:\\users\\xavierdelgiudice\\appdata\\roaming\\python\\python310\\site-packages (from ipython>=6.1.0->ipywidgets) (0.4.6)\n",
      "Requirement already satisfied: typing-extensions>=4.6 in c:\\users\\xavierdelgiudice\\appdata\\roaming\\python\\python310\\site-packages (from ipython>=6.1.0->ipywidgets) (4.12.2)\n",
      "Requirement already satisfied: jedi>=0.16 in c:\\users\\xavierdelgiudice\\appdata\\roaming\\python\\python310\\site-packages (from ipython>=6.1.0->ipywidgets) (0.19.1)\n",
      "Requirement already satisfied: exceptiongroup in c:\\users\\xavierdelgiudice\\appdata\\roaming\\python\\python310\\site-packages (from ipython>=6.1.0->ipywidgets) (1.2.2)\n",
      "Requirement already satisfied: stack-data in c:\\users\\xavierdelgiudice\\appdata\\roaming\\python\\python310\\site-packages (from ipython>=6.1.0->ipywidgets) (0.6.3)\n",
      "Requirement already satisfied: six>=1.5 in c:\\users\\xavierdelgiudice\\appdata\\roaming\\python\\python310\\site-packages (from python-dateutil>=2.8.2->pandas) (1.16.0)\n",
      "Requirement already satisfied: parso<0.9.0,>=0.8.3 in c:\\users\\xavierdelgiudice\\appdata\\roaming\\python\\python310\\site-packages (from jedi>=0.16->ipython>=6.1.0->ipywidgets) (0.8.4)\n",
      "Requirement already satisfied: wcwidth in c:\\users\\xavierdelgiudice\\appdata\\roaming\\python\\python310\\site-packages (from prompt-toolkit<3.1.0,>=3.0.41->ipython>=6.1.0->ipywidgets) (0.2.13)\n",
      "Requirement already satisfied: pure-eval in c:\\users\\xavierdelgiudice\\appdata\\roaming\\python\\python310\\site-packages (from stack-data->ipython>=6.1.0->ipywidgets) (0.2.3)\n",
      "Requirement already satisfied: executing>=1.2.0 in c:\\users\\xavierdelgiudice\\appdata\\roaming\\python\\python310\\site-packages (from stack-data->ipython>=6.1.0->ipywidgets) (2.1.0)\n",
      "Requirement already satisfied: asttokens>=2.1.0 in c:\\users\\xavierdelgiudice\\appdata\\roaming\\python\\python310\\site-packages (from stack-data->ipython>=6.1.0->ipywidgets) (2.4.1)\n",
      "Installing collected packages: psycopg2\n",
      "Successfully installed psycopg2-2.9.10\n"
     ]
    },
    {
     "name": "stderr",
     "output_type": "stream",
     "text": [
      "\n",
      "[notice] A new release of pip is available: 23.0.1 -> 25.0.1\n",
      "[notice] To update, run: C:\\Users\\XavierDelGiudice\\AppData\\Local\\Programs\\Python\\Python310\\python.exe -m pip install --upgrade pip\n"
     ]
    }
   ],
   "execution_count": 4
  },
  {
   "metadata": {
    "ExecuteTime": {
     "end_time": "2025-03-31T12:32:09.440319Z",
     "start_time": "2025-03-31T12:32:09.426317Z"
    }
   },
   "cell_type": "code",
   "source": [
    "import time\n",
    "import ipywidgets as widgets\n",
    "import psycopg2\n",
    "from IPython.display import display\n",
    "import re"
   ],
   "id": "b136ac5d03729a64",
   "outputs": [],
   "execution_count": 14
  },
  {
   "metadata": {},
   "cell_type": "markdown",
   "source": "## Connect to DB",
   "id": "1c3c24c10418ab0d"
  },
  {
   "metadata": {
    "ExecuteTime": {
     "end_time": "2025-03-31T12:20:24.253839Z",
     "start_time": "2025-03-31T12:20:22.211553Z"
    }
   },
   "cell_type": "code",
   "source": [
    "DB_NAME = \"neondb\"\n",
    "DB_USER = \"andrea\"\n",
    "DB_PASS = \"Sapienza2025!\"\n",
    "DB_HOST = \"ep-old-wind-a505sf8m-pooler.us-east-2.aws.neon.tech\"\n",
    "DB_PORT = \"5432\"\n",
    "\n",
    "\n",
    "def get_db_connection():\n",
    "    return psycopg2.connect(\n",
    "        dbname=DB_NAME, user=DB_USER, password=DB_PASS,\n",
    "        host=DB_HOST, port=DB_PORT\n",
    "    )\n",
    "\n",
    "\n",
    "conn = psycopg2.connect(\n",
    "    dbname=DB_NAME, user=DB_USER, password=DB_PASS,\n",
    "    host=DB_HOST, port=DB_PORT\n",
    ")"
   ],
   "id": "f649eb374c2c8aea",
   "outputs": [],
   "execution_count": 6
  },
  {
   "metadata": {},
   "cell_type": "markdown",
   "source": "## Insert your personal information",
   "id": "105ead5dca05cad6"
  },
  {
   "metadata": {
    "ExecuteTime": {
     "end_time": "2025-03-31T12:32:16.931931Z",
     "start_time": "2025-03-31T12:32:15.359767Z"
    }
   },
   "cell_type": "code",
   "source": [
    "conn = get_db_connection()\n",
    "cur = conn.cursor()\n",
    "cur.execute('''SELECT DISTINCT \"FORMATTED_EXPERIENCE_LEVEL\" FROM public.\"POSTING\" WHERE \"FORMATTED_EXPERIENCE_LEVEL\" IS NOT NULL ORDER BY \"FORMATTED_EXPERIENCE_LEVEL\" ASC''')\n",
    "experience_levels = [row[0] for row in cur.fetchall()]\n",
    "cur.close()\n",
    "\n",
    "# Pattern per la validazione dell'email\n",
    "email_pattern = r'^[a-zA-Z0-9._%+-]+@[a-zA-Z0-9.-]+\\.[a-zA-Z]{2,}$'\n",
    "\n",
    "# Creazione dei widget\n",
    "name_input = widgets.Text(placeholder=\"Insert your name\")\n",
    "surname_input = widgets.Text(placeholder=\"Insert your surname\")\n",
    "email_input = widgets.Text(placeholder=\"Insert your email\")\n",
    "experience_input = widgets.Dropdown(options=experience_levels, description=\"Experience:\")\n",
    "button = widgets.Button(description=\"Insert Data\", button_style=\"success\")\n",
    "\n",
    "output = widgets.Output()\n",
    "\n",
    "# Funzione per inserire i dati\n",
    "def insert_data(b):\n",
    "    with output:\n",
    "        output.clear_output()\n",
    "        name = name_input.value\n",
    "        surname = surname_input.value\n",
    "        email = email_input.value\n",
    "        experience = experience_input.value\n",
    "        \n",
    "        # Validazione dell'email con regex\n",
    "        if not re.match(email_pattern, email):\n",
    "            print(\"Warning: Invalid email format. Please enter a valid email address.\")\n",
    "            email_input.value = \"\"  # Reset della casella email per permettere una nuova immissione\n",
    "            return\n",
    "        \n",
    "        try:\n",
    "            cur = conn.cursor()\n",
    "            query = '''INSERT INTO public.\"USERS\" (\"NAME\", \"SURNAME\", \"MAIL\", \"EXPERIENCE\") \n",
    "                       VALUES (%s, %s, %s, %s)'''\n",
    "            cur.execute(query, (name, surname, email, experience))\n",
    "            conn.commit()\n",
    "            cur.close()\n",
    "            print(\"Data inserted successfully!\")\n",
    "        except Exception as e:\n",
    "            print(f\"Error while connecting to database: {e}\")\n",
    "\n",
    "# Collegamento del bottone all'evento\n",
    "button.on_click(insert_data)\n",
    "\n",
    "# Visualizzazione dei widget\n",
    "display(widgets.VBox([widgets.Label(\"Name:\"), name_input,\n",
    "                      widgets.Label(\"Surname:\"), surname_input,\n",
    "                      widgets.Label(\"Email:\"), email_input,\n",
    "                      experience_input,\n",
    "                      button, output]))"
   ],
   "id": "d2c9bf963565068c",
   "outputs": [
    {
     "data": {
      "text/plain": [
       "VBox(children=(Label(value='Name:'), Text(value='', placeholder='Insert your name'), Label(value='Surname:'), …"
      ],
      "application/vnd.jupyter.widget-view+json": {
       "version_major": 2,
       "version_minor": 0,
       "model_id": "49c9344792b146529d5696b15eefe582"
      }
     },
     "metadata": {},
     "output_type": "display_data"
    }
   ],
   "execution_count": 15
  },
  {
   "metadata": {},
   "cell_type": "markdown",
   "source": "## Some interesting insight/question that can be extracted from data:\n",
   "id": "2ffdefce22781028"
  },
  {
   "metadata": {},
   "cell_type": "markdown",
   "source": "Most In-Demand Job Titles",
   "id": "d5666c9eceb456e8"
  },
  {
   "metadata": {},
   "cell_type": "markdown",
   "source": [
    "```SQL \n",
    "SELECT \"job_title\", COUNT(*) AS num_postings\n",
    "FROM public.\"postings\"\n",
    "GROUP BY \"job_title\"\n",
    "ORDER BY num_postings DESC\n",
    "LIMIT 10;\n",
    "```"
   ],
   "id": "c76e32ee2ce45f52"
  },
  {
   "metadata": {},
   "cell_type": "markdown",
   "source": "Most Hiring Companies",
   "id": "42e33b90ef09e895"
  },
  {
   "metadata": {},
   "cell_type": "markdown",
   "source": [
    "```SQL \n",
    "SELECT \"company_name\", COUNT(*) AS num_postings\n",
    "FROM public.\"postings\"\n",
    "GROUP BY \"company_name\"\n",
    "ORDER BY num_postings DESC\n",
    "LIMIT 10;\n",
    "```"
   ],
   "id": "b49203232f86a747"
  },
  {
   "metadata": {},
   "cell_type": "markdown",
   "source": "Job Locations with Highest Demand",
   "id": "e59342056bb68576"
  },
  {
   "metadata": {},
   "cell_type": "markdown",
   "source": [
    "```SQL \n",
    "SELECT \"job_location\", COUNT(*) AS num_postings\n",
    "FROM public.\"postings\"\n",
    "GROUP BY \"job_location\"\n",
    "ORDER BY num_postings DESC\n",
    "LIMIT 10;\n",
    "```"
   ],
   "id": "28fad672b443617e"
  },
  {
   "metadata": {},
   "cell_type": "markdown",
   "source": "Average Salary for Each Job Title (if salary info is available)",
   "id": "a5830c46fca2044d"
  },
  {
   "metadata": {},
   "cell_type": "markdown",
   "source": [
    "```SQL \n",
    "SELECT \"job_title\", AVG(\"salary\") AS avg_salary\n",
    "FROM public.\"postings\"\n",
    "WHERE \"salary\" IS NOT NULL\n",
    "GROUP BY \"job_title\"\n",
    "ORDER BY avg_salary DESC\n",
    "LIMIT 10;\n",
    "```"
   ],
   "id": "61e83d5e3f37b63e"
  },
  {
   "metadata": {},
   "cell_type": "markdown",
   "source": "Remote vs On-Site Jobs",
   "id": "8fbb088b8660d9cb"
  },
  {
   "metadata": {},
   "cell_type": "markdown",
   "source": [
    "```SQL\n",
    "SELECT \"work_type\", COUNT(*) AS num_postings\n",
    "FROM public.\"postings\"\n",
    "WHERE \"work_type\" IN ('Remote', 'On-site')\n",
    "GROUP BY \"work_type\";\n",
    "```"
   ],
   "id": "d5177e5dafe8d450"
  },
  {
   "metadata": {},
   "cell_type": "markdown",
   "source": "Most Common Skills Required",
   "id": "a2c1e24f5cff93e2"
  },
  {
   "metadata": {},
   "cell_type": "markdown",
   "source": [
    "```SQL\n",
    "SELECT \"skills\", COUNT(*) AS num_occurrences\n",
    "FROM public.\"postings\"\n",
    "WHERE \"skills\" IS NOT NULL\n",
    "GROUP BY \"skills\"\n",
    "ORDER BY num_occurrences DESC\n",
    "LIMIT 10;\n",
    "```"
   ],
   "id": "6b4265d0a9727883"
  },
  {
   "metadata": {},
   "cell_type": "markdown",
   "source": "",
   "id": "277652d29ab143f5"
  },
  {
   "metadata": {},
   "cell_type": "markdown",
   "source": "## 1. Select all the ...",
   "id": "4ad06abe41148234"
  },
  {
   "metadata": {},
   "cell_type": "code",
   "outputs": [],
   "execution_count": null,
   "source": "",
   "id": "31c0acfc7a73048a"
  },
  {
   "metadata": {},
   "cell_type": "markdown",
   "source": "## 2. Select all the posting job for company name given by input and with requested location and for a specific job location",
   "id": "86aa842de9f799f3"
  },
  {
   "metadata": {
    "ExecuteTime": {
     "end_time": "2025-03-28T18:29:08.670599Z",
     "start_time": "2025-03-28T18:29:08.651599Z"
    }
   },
   "cell_type": "code",
   "source": [
    "company_input = widgets.Text(placeholder=\"Insert the company name\")\n",
    "location_input = widgets.Text(placeholder=\"Insert the preferred location\")\n",
    "job_title_input = widgets.Text(placeholder=\"Insert the job title\")\n",
    "search_button = widgets.Button(description=\"Look for job posting\", button_style=\"primary\")\n",
    "output = widgets.Output()\n",
    "\n",
    "\n",
    "def search_jobs(b):\n",
    "    with output:\n",
    "        output.clear_output()\n",
    "        company = company_input.value.strip() or None\n",
    "        location = location_input.value.strip() or None\n",
    "        job_title = job_title_input.value.strip() or None\n",
    "\n",
    "        conn = None\n",
    "\n",
    "        try:\n",
    "            conn = get_db_connection()\n",
    "            cur = conn.cursor()\n",
    "\n",
    "            query = '''\n",
    "            SELECT \"JOB_ID\", \"COMPANY_NAME\", \"LOCATION\", \"TITLE\" FROM public.\"POSTING\"\n",
    "            WHERE (%s IS NULL OR \"COMPANY_NAME\" ILIKE %s) \n",
    "            AND (%s IS NULL OR \"LOCATION\" ILIKE %s) \n",
    "            AND (%s IS NULL OR \"TITLE\" ILIKE %s)\n",
    "            ORDER BY \"JOB_ID\" ASC\n",
    "            LIMIT 10;\n",
    "            '''\n",
    "\n",
    "            # Prepare parameters\n",
    "            params = (\n",
    "                company, f\"%{company}%\" if company else None,\n",
    "                location, f\"%{location}%\" if location else None,\n",
    "                job_title, f\"%{job_title}%\" if job_title else None\n",
    "            )\n",
    "\n",
    "            cur.execute(query, params)\n",
    "            rows = cur.fetchall()\n",
    "\n",
    "            # Close cursor before processing results\n",
    "            cur.close()\n",
    "            conn.close()\n",
    "\n",
    "            if rows:\n",
    "                df = pd.DataFrame(rows, columns=[\"JOB_ID\", \"COMPANY_NAME\", \"LOCATION\", \"TITLE\"])\n",
    "                display(df)\n",
    "            else:\n",
    "                print(\"No job postings found with the selected parameters.\")\n",
    "\n",
    "        except psycopg2.Error as e:\n",
    "            if conn:\n",
    "                conn.rollback()  # Reset transaction state on error\n",
    "            print(f\"Database error: {e}\")\n",
    "\n",
    "        except Exception as e:\n",
    "            print(f\"Unexpected error: {e}\")\n",
    "\n",
    "        finally:\n",
    "            if conn:\n",
    "                conn.close()\n",
    "\n",
    "\n",
    "search_button.on_click(search_jobs)\n",
    "\n",
    "display(widgets.VBox([\n",
    "    widgets.Label(\"Company Name:\"), company_input,\n",
    "    widgets.Label(\"Location:\"), location_input,\n",
    "    widgets.Label(\"Job Title:\"), job_title_input,\n",
    "    search_button, output\n",
    "]))"
   ],
   "id": "55beb3d71179fd93",
   "outputs": [
    {
     "data": {
      "text/plain": [
       "VBox(children=(Label(value='Company Name:'), Text(value='', placeholder='Insert the company name'), Label(valu…"
      ],
      "application/vnd.jupyter.widget-view+json": {
       "version_major": 2,
       "version_minor": 0,
       "model_id": "5d765ae670c54c5ebe034539f5d22dc3"
      }
     },
     "metadata": {},
     "output_type": "display_data"
    }
   ],
   "execution_count": 21
  },
  {
   "metadata": {},
   "cell_type": "markdown",
   "source": "## 3. Select all the job postings for the TechGiant (more than 500 employees and in the IT industry)",
   "id": "9094811d45f0acf0"
  },
  {
   "metadata": {
    "ExecuteTime": {
     "end_time": "2025-03-28T18:49:43.320741Z",
     "start_time": "2025-03-28T18:49:43.296250Z"
    }
   },
   "cell_type": "code",
   "source": [
    "import ipywidgets as widgets\n",
    "import pandas as pd\n",
    "import psycopg2  # Ensure psycopg2 is installed\n",
    "\n",
    "# Create input fields\n",
    "industry_input = widgets.Text(placeholder=\"Insert the Industry domain\")\n",
    "company_input = widgets.Text(placeholder=\"Insert the company name\")\n",
    "search_button = widgets.Button(description=\"Look for job posting\", button_style=\"primary\")\n",
    "output = widgets.Output()\n",
    "\n",
    "\n",
    "# Function to search jobs in TechGiant companies\n",
    "def search_jobs(b):\n",
    "    with output:\n",
    "        output.clear_output()\n",
    "        company = company_input.value.strip() or None\n",
    "        industry = industry_input.value.strip() or None\n",
    "\n",
    "        conn = None\n",
    "\n",
    "        try:\n",
    "            conn = get_db_connection()\n",
    "            cur = conn.cursor()\n",
    "\n",
    "            query = '''\n",
    "            SELECT P.\"COMPANY_NAME\", P.\"VIEWS\", P.\"PAY_PERIOD\", P.\"APPLIES\", P.\"EXPIRY\", CI.\"INDUSTRY\"\n",
    "            FROM public.\"POSTING\" as P \n",
    "            JOIN public.\"COMPANY_INDUSTRY\" as CI ON P.\"COMPANY_ID\" = CI.\"COMPANY_ID\"\n",
    "            JOIN public.\"EMPLOYEE_COUNTS\" as EC ON P.\"COMPANY_ID\" = EC.\"COMPANY_ID\" \n",
    "            WHERE EC.\"EMPLOYEE_COUNT\" > 2000 \n",
    "            AND \"VIEWS\" IS NOT NULL\n",
    "            AND (%s IS NULL OR CI.\"INDUSTRY\" ILIKE %s)\n",
    "            AND (%s IS NULL OR P.\"COMPANY_NAME\" ILIKE %s) \n",
    "            ORDER BY \"VIEWS\" DESC\n",
    "            LIMIT 20;\n",
    "            '''\n",
    "\n",
    "            # Prepare parameters (matching the placeholders)\n",
    "            params = (\n",
    "                industry, f\"%{industry}%\" if industry else None,\n",
    "                company, f\"%{company}%\" if company else None\n",
    "            )\n",
    "\n",
    "            cur.execute(query, params)\n",
    "            rows = cur.fetchall()\n",
    "\n",
    "            # Close cursor before processing results\n",
    "            cur.close()\n",
    "            conn.close()\n",
    "\n",
    "            if rows:\n",
    "                df = pd.DataFrame(rows,\n",
    "                                  columns=[\"COMPANY_NAME\", \"VIEWS\", \"PAY_PERIOD\", \"APPLIES\", \"EXPIRY\", \"INDUSTRY\"])\n",
    "                display(df)\n",
    "            else:\n",
    "                print(\"No job postings found for TechGiant companies.\")\n",
    "\n",
    "        except psycopg2.Error as e:\n",
    "            if conn:\n",
    "                conn.rollback()  # Reset transaction state on error\n",
    "            print(f\"Database error: {e}\")\n",
    "\n",
    "        except Exception as e:\n",
    "            print(f\"Unexpected error: {e}\")\n",
    "\n",
    "        finally:\n",
    "            if conn:\n",
    "                conn.close()\n",
    "\n",
    "\n",
    "# Bind function to button click\n",
    "search_button.on_click(search_jobs)\n",
    "\n",
    "# Display UI\n",
    "display(widgets.VBox([\n",
    "    widgets.Label(\"Industry:\"), industry_input,\n",
    "    widgets.Label(\"Company Name:\"), company_input,\n",
    "    search_button, output\n",
    "]))"
   ],
   "id": "54ebbf7f9aaff39e",
   "outputs": [
    {
     "data": {
      "text/plain": [
       "VBox(children=(Label(value='Industry:'), Text(value='', placeholder='Insert the Industry domain'), Label(value…"
      ],
      "application/vnd.jupyter.widget-view+json": {
       "version_major": 2,
       "version_minor": 0,
       "model_id": "c0b102fa0f4e4600bca94c2ad41ddc2f"
      }
     },
     "metadata": {},
     "output_type": "display_data"
    }
   ],
   "execution_count": 35
  },
  {
   "metadata": {},
   "cell_type": "markdown",
   "source": "## 4. Select all the companies and job position requested which salary is between two values given by input. Add info such as, all the prt-time with USD payment and Monthly pay period ",
   "id": "71352120c63bbcde"
  },
  {
   "metadata": {
    "ExecuteTime": {
     "end_time": "2025-03-28T19:42:36.545193Z",
     "start_time": "2025-03-28T19:42:36.527172Z"
    }
   },
   "cell_type": "code",
   "source": [
    "currency_input = widgets.Text(placeholder=\"Currency (e.g., USD)\", description=\"Currency:\")\n",
    "job_type_input = widgets.Text(placeholder=\"Job Type (e.g., Part-time)\", description=\"Job Type:\")\n",
    "pay_period_input = widgets.Text(placeholder=\"Pay Period (e.g., Monthly)\", description=\"Pay Period:\")\n",
    "\n",
    "salary_slider = widgets.IntRangeSlider(\n",
    "    value=[0, 10000],\n",
    "    min=0,\n",
    "    max=10000,\n",
    "    step=100,\n",
    "    description=\"Salary Range:\",\n",
    "    continuous_update=False\n",
    ")\n",
    "\n",
    "search_button = widgets.Button(description=\"Look for job postings\", button_style=\"primary\")\n",
    "output = widgets.Output()\n",
    "\n",
    "def search_jobs(b):\n",
    "    with output:\n",
    "        output.clear_output()\n",
    "        currency = currency_input.value.strip() or None\n",
    "        job_type = job_type_input.value.strip() or None\n",
    "        pay_period = pay_period_input.value.strip() or None\n",
    "        min_salary, max_salary = salary_slider.value  # Get range from slider\n",
    "\n",
    "        conn = None\n",
    "\n",
    "        try:\n",
    "            conn = get_db_connection()\n",
    "            cur = conn.cursor()\n",
    "\n",
    "            query = '''\n",
    "            SELECT P.\"COMPANY_NAME\", P.\"TITLE\", P.\"PAY_PERIOD\", P.\"CURRENCY\", P.\"WORK_TYPE\", S.\"MIN_SALARY\", S.\"MAX_SALARY\"\n",
    "            FROM public.\"POSTING\" AS P JOIN public.\"SALARIES\" AS S ON P.\"JOB_ID\" = S.\"JOB_ID\"\n",
    "            WHERE\n",
    "            (%s IS NULL OR P.\"CURRENCY\" ILIKE %s)\n",
    "            AND (%s IS NULL OR P.\"WORK_TYPE\" ILIKE %s) \n",
    "            AND (%s IS NULL OR P.\"PAY_PERIOD\" ILIKE %s)\n",
    "            AND (S.\"MIN_SALARY\" >= %s)\n",
    "            AND (S.\"MAX_SALARY\" <= %s)\n",
    "            LIMIT 20;\n",
    "            '''\n",
    "\n",
    "            params = (\n",
    "                currency, f\"%{currency}%\" if currency else None,\n",
    "                job_type, f\"%{job_type}%\" if job_type else None,\n",
    "                pay_period, f\"%{pay_period}%\" if pay_period else None,\n",
    "                min_salary,\n",
    "                max_salary\n",
    "            )\n",
    "\n",
    "            start_time = time.time()\n",
    "            cur.execute(query, params)\n",
    "            rows = cur.fetchall()\n",
    "            end_time = time.time()\n",
    "            \n",
    "            execution_time = end_time - start_time\n",
    "\n",
    "            cur.close()\n",
    "            conn.close()\n",
    "\n",
    "            print(f\"Query executed in {execution_time:.4f} seconds\")\n",
    "            \n",
    "            if rows:\n",
    "                df = pd.DataFrame(rows, columns=[\"COMPANY_NAME\", \"JOB_TITLE\", \"PAY_PERIOD\", \"CURRENCY\", \"WORK_TYPE\",\n",
    "                                                 \"MIN_SALARY\", \"MAX_SALARY\"])\n",
    "                display(df)\n",
    "            else:\n",
    "                print(\"No job postings found with the given salary range and conditions.\")\n",
    "\n",
    "        except psycopg2.Error as e:\n",
    "            if conn:\n",
    "                conn.rollback()\n",
    "            print(f\"Database error: {e}\")\n",
    "\n",
    "        except Exception as e:\n",
    "            print(f\"Unexpected error: {e}\")\n",
    "\n",
    "        finally:\n",
    "            if conn:\n",
    "                conn.close()\n",
    "\n",
    "search_button.on_click(search_jobs)\n",
    "\n",
    "display(widgets.VBox([\n",
    "    widgets.Label(\"Enter Job Filters:\"),\n",
    "    currency_input,\n",
    "    job_type_input,\n",
    "    pay_period_input,\n",
    "    salary_slider,\n",
    "    search_button,\n",
    "    output\n",
    "]))"
   ],
   "id": "72cd2d6da36becc0",
   "outputs": [
    {
     "data": {
      "text/plain": [
       "VBox(children=(Label(value='Enter Job Filters:'), Text(value='', description='Currency:', placeholder='Currenc…"
      ],
      "application/vnd.jupyter.widget-view+json": {
       "version_major": 2,
       "version_minor": 0,
       "model_id": "485ae73340e54a85993fbad50ceffd9b"
      }
     },
     "metadata": {},
     "output_type": "display_data"
    }
   ],
   "execution_count": 43
  },
  {
   "metadata": {},
   "cell_type": "markdown",
   "source": "## 5. Considering today is today but one year early select all the active job postings that allows for remote working, that pay in USD, from companies with name given by input",
   "id": "3e5199dcd9477143"
  },
  {
   "metadata": {},
   "cell_type": "code",
   "outputs": [],
   "execution_count": null,
   "source": "",
   "id": "9e86ebe8a4883f73"
  },
  {
   "metadata": {},
   "cell_type": "markdown",
   "source": "## 6. Select all the ...",
   "id": "68536cbea73908d8"
  },
  {
   "metadata": {},
   "cell_type": "code",
   "outputs": [],
   "execution_count": null,
   "source": "",
   "id": "8f9ec47dbfbcbf68"
  },
  {
   "metadata": {},
   "cell_type": "markdown",
   "source": "## 7. Select all the ...",
   "id": "31b69f8068d1a0e8"
  },
  {
   "metadata": {},
   "cell_type": "code",
   "outputs": [],
   "execution_count": null,
   "source": "",
   "id": "22a088b26e7d3187"
  },
  {
   "metadata": {},
   "cell_type": "markdown",
   "source": "## 8. Select all the ...",
   "id": "aca09a225f82b24c"
  },
  {
   "metadata": {},
   "cell_type": "code",
   "outputs": [],
   "execution_count": null,
   "source": "",
   "id": "85742f775baa438d"
  },
  {
   "metadata": {},
   "cell_type": "markdown",
   "source": "## 9. Select all the ...",
   "id": "44e08af27d378f83"
  },
  {
   "metadata": {},
   "cell_type": "code",
   "outputs": [],
   "execution_count": null,
   "source": "",
   "id": "bad064d98d9bf4bb"
  },
  {
   "metadata": {},
   "cell_type": "markdown",
   "source": "## 10. Select all the ...",
   "id": "52bdbe3e32b8886d"
  },
  {
   "metadata": {},
   "cell_type": "code",
   "outputs": [],
   "execution_count": null,
   "source": "",
   "id": "3b26fe66f670a77c"
  }
 ],
 "metadata": {
  "kernelspec": {
   "display_name": "Python 3",
   "language": "python",
   "name": "python3"
  },
  "language_info": {
   "codemirror_mode": {
    "name": "ipython",
    "version": 2
   },
   "file_extension": ".py",
   "mimetype": "text/x-python",
   "name": "python",
   "nbconvert_exporter": "python",
   "pygments_lexer": "ipython2",
   "version": "2.7.6"
  }
 },
 "nbformat": 4,
 "nbformat_minor": 5
}
