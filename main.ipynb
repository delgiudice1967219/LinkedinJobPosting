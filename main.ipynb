{
 "cells": [
  {
   "metadata": {},
   "cell_type": "markdown",
   "source": "## Install and import packages",
   "id": "e727738360212951"
  },
  {
   "cell_type": "code",
   "id": "initial_id",
   "metadata": {
    "collapsed": true,
    "ExecuteTime": {
     "end_time": "2025-04-02T16:36:15.313481Z",
     "start_time": "2025-04-02T16:36:12.636039Z"
    }
   },
   "source": "%pip install pandas numpy sqlalchemy psycopg2 ipywidgets",
   "outputs": [
    {
     "name": "stdout",
     "output_type": "stream",
     "text": [
      "Requirement already satisfied: pandas in c:\\users\\xavie\\pycharmprojects\\linkedinjobposting\\.venv\\lib\\site-packages (2.2.3)\n",
      "Requirement already satisfied: numpy in c:\\users\\xavie\\pycharmprojects\\linkedinjobposting\\.venv\\lib\\site-packages (2.2.4)\n",
      "Collecting sqlalchemy\n",
      "  Obtaining dependency information for sqlalchemy from https://files.pythonhosted.org/packages/60/7f/ea1086136bc648cd4713a1e01869f7fc31979d67b3a8f973f5d9ab8de7e1/sqlalchemy-2.0.40-cp310-cp310-win_amd64.whl.metadata\n",
      "  Downloading sqlalchemy-2.0.40-cp310-cp310-win_amd64.whl.metadata (9.9 kB)\n",
      "Requirement already satisfied: psycopg2 in c:\\users\\xavie\\pycharmprojects\\linkedinjobposting\\.venv\\lib\\site-packages (2.9.10)\n",
      "Requirement already satisfied: ipywidgets in c:\\users\\xavie\\pycharmprojects\\linkedinjobposting\\.venv\\lib\\site-packages (8.1.5)\n",
      "Requirement already satisfied: python-dateutil>=2.8.2 in c:\\users\\xavie\\pycharmprojects\\linkedinjobposting\\.venv\\lib\\site-packages (from pandas) (2.9.0.post0)\n",
      "Requirement already satisfied: pytz>=2020.1 in c:\\users\\xavie\\pycharmprojects\\linkedinjobposting\\.venv\\lib\\site-packages (from pandas) (2025.1)\n",
      "Requirement already satisfied: tzdata>=2022.7 in c:\\users\\xavie\\pycharmprojects\\linkedinjobposting\\.venv\\lib\\site-packages (from pandas) (2025.2)\n",
      "Collecting greenlet>=1 (from sqlalchemy)\n",
      "  Obtaining dependency information for greenlet>=1 from https://files.pythonhosted.org/packages/96/28/d62835fb33fb5652f2e98d34c44ad1a0feacc8b1d3f1aecab035f51f267d/greenlet-3.1.1-cp310-cp310-win_amd64.whl.metadata\n",
      "  Downloading greenlet-3.1.1-cp310-cp310-win_amd64.whl.metadata (3.9 kB)\n",
      "Requirement already satisfied: typing-extensions>=4.6.0 in c:\\users\\xavie\\pycharmprojects\\linkedinjobposting\\.venv\\lib\\site-packages (from sqlalchemy) (4.12.2)\n",
      "Requirement already satisfied: comm>=0.1.3 in c:\\users\\xavie\\pycharmprojects\\linkedinjobposting\\.venv\\lib\\site-packages (from ipywidgets) (0.2.2)\n",
      "Requirement already satisfied: ipython>=6.1.0 in c:\\users\\xavie\\pycharmprojects\\linkedinjobposting\\.venv\\lib\\site-packages (from ipywidgets) (8.34.0)\n",
      "Requirement already satisfied: traitlets>=4.3.1 in c:\\users\\xavie\\pycharmprojects\\linkedinjobposting\\.venv\\lib\\site-packages (from ipywidgets) (5.14.3)\n",
      "Requirement already satisfied: widgetsnbextension~=4.0.12 in c:\\users\\xavie\\pycharmprojects\\linkedinjobposting\\.venv\\lib\\site-packages (from ipywidgets) (4.0.13)\n",
      "Requirement already satisfied: jupyterlab-widgets~=3.0.12 in c:\\users\\xavie\\pycharmprojects\\linkedinjobposting\\.venv\\lib\\site-packages (from ipywidgets) (3.0.13)\n",
      "Requirement already satisfied: colorama in c:\\users\\xavie\\pycharmprojects\\linkedinjobposting\\.venv\\lib\\site-packages (from ipython>=6.1.0->ipywidgets) (0.4.6)\n",
      "Requirement already satisfied: decorator in c:\\users\\xavie\\pycharmprojects\\linkedinjobposting\\.venv\\lib\\site-packages (from ipython>=6.1.0->ipywidgets) (5.2.1)\n",
      "Requirement already satisfied: exceptiongroup in c:\\users\\xavie\\pycharmprojects\\linkedinjobposting\\.venv\\lib\\site-packages (from ipython>=6.1.0->ipywidgets) (1.2.2)\n",
      "Requirement already satisfied: jedi>=0.16 in c:\\users\\xavie\\pycharmprojects\\linkedinjobposting\\.venv\\lib\\site-packages (from ipython>=6.1.0->ipywidgets) (0.19.2)\n",
      "Requirement already satisfied: matplotlib-inline in c:\\users\\xavie\\pycharmprojects\\linkedinjobposting\\.venv\\lib\\site-packages (from ipython>=6.1.0->ipywidgets) (0.1.7)\n",
      "Requirement already satisfied: prompt_toolkit<3.1.0,>=3.0.41 in c:\\users\\xavie\\pycharmprojects\\linkedinjobposting\\.venv\\lib\\site-packages (from ipython>=6.1.0->ipywidgets) (3.0.50)\n",
      "Requirement already satisfied: pygments>=2.4.0 in c:\\users\\xavie\\pycharmprojects\\linkedinjobposting\\.venv\\lib\\site-packages (from ipython>=6.1.0->ipywidgets) (2.19.1)\n",
      "Requirement already satisfied: stack_data in c:\\users\\xavie\\pycharmprojects\\linkedinjobposting\\.venv\\lib\\site-packages (from ipython>=6.1.0->ipywidgets) (0.6.3)\n",
      "Requirement already satisfied: six>=1.5 in c:\\users\\xavie\\pycharmprojects\\linkedinjobposting\\.venv\\lib\\site-packages (from python-dateutil>=2.8.2->pandas) (1.17.0)\n",
      "Requirement already satisfied: parso<0.9.0,>=0.8.4 in c:\\users\\xavie\\pycharmprojects\\linkedinjobposting\\.venv\\lib\\site-packages (from jedi>=0.16->ipython>=6.1.0->ipywidgets) (0.8.4)\n",
      "Requirement already satisfied: wcwidth in c:\\users\\xavie\\pycharmprojects\\linkedinjobposting\\.venv\\lib\\site-packages (from prompt_toolkit<3.1.0,>=3.0.41->ipython>=6.1.0->ipywidgets) (0.2.13)\n",
      "Requirement already satisfied: executing>=1.2.0 in c:\\users\\xavie\\pycharmprojects\\linkedinjobposting\\.venv\\lib\\site-packages (from stack_data->ipython>=6.1.0->ipywidgets) (2.2.0)\n",
      "Requirement already satisfied: asttokens>=2.1.0 in c:\\users\\xavie\\pycharmprojects\\linkedinjobposting\\.venv\\lib\\site-packages (from stack_data->ipython>=6.1.0->ipywidgets) (3.0.0)\n",
      "Requirement already satisfied: pure-eval in c:\\users\\xavie\\pycharmprojects\\linkedinjobposting\\.venv\\lib\\site-packages (from stack_data->ipython>=6.1.0->ipywidgets) (0.2.3)\n",
      "Downloading sqlalchemy-2.0.40-cp310-cp310-win_amd64.whl (2.1 MB)\n",
      "   ---------------------------------------- 0.0/2.1 MB ? eta -:--:--\n",
      "   ---- ----------------------------------- 0.2/2.1 MB 7.3 MB/s eta 0:00:01\n",
      "   ---------------------------------------- 2.1/2.1 MB 26.9 MB/s eta 0:00:00\n",
      "Downloading greenlet-3.1.1-cp310-cp310-win_amd64.whl (298 kB)\n",
      "   ---------------------------------------- 0.0/298.4 kB ? eta -:--:--\n",
      "   ---------------------------------------- 298.4/298.4 kB ? eta 0:00:00\n",
      "Installing collected packages: greenlet, sqlalchemy\n",
      "Successfully installed greenlet-3.1.1 sqlalchemy-2.0.40\n",
      "Note: you may need to restart the kernel to use updated packages.\n"
     ]
    },
    {
     "name": "stderr",
     "output_type": "stream",
     "text": [
      "\n",
      "[notice] A new release of pip is available: 23.2.1 -> 25.0.1\n",
      "[notice] To update, run: python.exe -m pip install --upgrade pip\n"
     ]
    }
   ],
   "execution_count": 1
  },
  {
   "metadata": {
    "ExecuteTime": {
     "end_time": "2025-04-03T19:35:37.262336Z",
     "start_time": "2025-04-03T19:35:36.979916Z"
    }
   },
   "cell_type": "code",
   "source": [
    "import time\n",
    "from ipywidgets import widgets, VBox, Label\n",
    "import psycopg2\n",
    "from IPython.display import display\n",
    "import re\n",
    "import pandas as pd\n",
    "from sqlalchemy import create_engine"
   ],
   "id": "b136ac5d03729a64",
   "outputs": [],
   "execution_count": 2
  },
  {
   "metadata": {},
   "cell_type": "markdown",
   "source": "## Connect to DB",
   "id": "1c3c24c10418ab0d"
  },
  {
   "metadata": {
    "ExecuteTime": {
     "end_time": "2025-04-03T19:35:36.978912Z",
     "start_time": "2025-04-03T19:35:36.958818Z"
    }
   },
   "cell_type": "code",
   "source": [
    "DB_NAME = \"Linkedin\"\n",
    "DB_USER = \"postgres\"\n",
    "DB_PASS = \"Sapienza\"\n",
    "DB_HOST = \"localhost\"\n",
    "DB_PORT = \"5432\"\n",
    "\n",
    "def get_db_connection():\n",
    "    return psycopg2.connect(\n",
    "        dbname=DB_NAME, user=DB_USER, password=DB_PASS,\n",
    "        host=DB_HOST, port=DB_PORT)"
   ],
   "id": "f649eb374c2c8aea",
   "outputs": [],
   "execution_count": 1
  },
  {
   "metadata": {},
   "cell_type": "markdown",
   "source": "Distinct is not very performant then if we do not have duplicate rows into this column we can also avoid to use the DISTINCT statement",
   "id": "91d9ac685cfde874"
  },
  {
   "metadata": {},
   "cell_type": "markdown",
   "source": "## SQL",
   "id": "ac530dbc5bb15fe1"
  },
  {
   "metadata": {},
   "cell_type": "markdown",
   "source": "### Insert your personal information",
   "id": "105ead5dca05cad6"
  },
  {
   "metadata": {},
   "cell_type": "markdown",
   "source": "We prefered to use the like concat instead that equals or not equals in order to extract meaningful information also if we do not correctly insert the exact value in the where condition",
   "id": "94ada0378cce4cd0"
  },
  {
   "metadata": {
    "ExecuteTime": {
     "end_time": "2025-04-03T17:54:15.803404Z",
     "start_time": "2025-04-03T17:54:15.187171Z"
    }
   },
   "cell_type": "code",
   "source": [
    "conn = get_db_connection()\n",
    "cur = conn.cursor()\n",
    "\n",
    "cur.execute('''SELECT DISTINCT \"FORMATTED_EXPERIENCE_LEVEL\" FROM public.\"POSTING\" WHERE \"FORMATTED_EXPERIENCE_LEVEL\" IS NOT NULL ORDER BY \"FORMATTED_EXPERIENCE_LEVEL\" ASC''')\n",
    "experience_levels = [row[0] for row in cur.fetchall()]\n",
    "cur.close()\n",
    "\n",
    "cur = conn.cursor()\n",
    "cur.execute('''SELECT DISTINCT \"ID\", \"SKILL_NAME\" FROM public.\"SKILL\" WHERE \"SKILL_NAME\" IS NOT NULL ORDER BY \"SKILL_NAME\" ASC''')\n",
    "skill_data = cur.fetchall()\n",
    "skill_dict = {row[1]: row[0] for row in skill_data}\n",
    "skill_names = list(skill_dict.keys())\n",
    "cur.close()\n",
    "\n",
    "email_pattern = r'^[a-zA-Z0-9._%+-]+@[a-zA-Z0-9.-]+\\.[a-zA-Z]{2,}$'\n",
    "\n",
    "name_input = widgets.Text(placeholder=\"Insert your name\")\n",
    "surname_input = widgets.Text(placeholder=\"Insert your surname\")\n",
    "email_input = widgets.Text(placeholder=\"Insert your email\")\n",
    "experience_input = widgets.Dropdown(options=experience_levels, description=\"Experience:\")\n",
    "skill_input = widgets.SelectMultiple(\n",
    "    options=skill_names,\n",
    "    description=\"Skills:\",\n",
    "    rows=10\n",
    ")\n",
    "\n",
    "button = widgets.Button(description=\"Insert Data\", button_style=\"success\")\n",
    "output = widgets.Output()\n",
    "\n",
    "def insert_data(b):\n",
    "    with output:\n",
    "        output.clear_output()\n",
    "        name = name_input.value\n",
    "        surname = surname_input.value\n",
    "        email = email_input.value\n",
    "        experience = experience_input.value\n",
    "        selected_skills = skill_input.value\n",
    "\n",
    "        if not re.match(email_pattern, email):\n",
    "            print(\"Warning: Invalid email format. Please enter a valid email address.\")\n",
    "            #email_input.value = \"\"\n",
    "            return\n",
    "        \n",
    "        try:\n",
    "            cur = conn.cursor()\n",
    "            query_user = '''INSERT INTO public.\"USERS\" (\"NAME\", \"SURNAME\", \"MAIL\", \"EXPERIENCE\") \n",
    "                            VALUES (%s, %s, %s, %s) RETURNING \"ID\"'''\n",
    "            cur.execute(query_user, (name, surname, email, experience))\n",
    "            user_id = cur.fetchone()[0]\n",
    "            conn.commit()\n",
    "            \n",
    "            if selected_skills:\n",
    "                query_skill = '''INSERT INTO public.\"USER_SKILL\" (\"USER_ID\", \"SKILL_ID\") VALUES (%s, %s)'''\n",
    "                for skill_name in selected_skills:\n",
    "                    skill_id = skill_dict[skill_name]\n",
    "                    cur.execute(query_skill, (user_id, skill_id))\n",
    "                \n",
    "                conn.commit()\n",
    "            \n",
    "            cur.close()\n",
    "            print(\"Data inserted successfully!\")\n",
    "        except Exception as e:\n",
    "            print(f\"Error while connecting to database: {e}\")\n",
    "\n",
    "button.on_click(insert_data)\n",
    "\n",
    "display(widgets.VBox([\n",
    "    widgets.Label(\"Name:\"), name_input,\n",
    "    widgets.Label(\"Surname:\"), surname_input,\n",
    "    widgets.Label(\"Email:\"), email_input,\n",
    "    experience_input,\n",
    "    skill_input,\n",
    "    button, output\n",
    "]))"
   ],
   "id": "d2c9bf963565068c",
   "outputs": [
    {
     "data": {
      "text/plain": [
       "VBox(children=(Label(value='Name:'), Text(value='', placeholder='Insert your name'), Label(value='Surname:'), …"
      ],
      "application/vnd.jupyter.widget-view+json": {
       "version_major": 2,
       "version_minor": 0,
       "model_id": "34247b65b9f34b2ba63ded3da3394b34"
      }
     },
     "metadata": {},
     "output_type": "display_data"
    }
   ],
   "execution_count": 3
  },
  {
   "metadata": {},
   "cell_type": "markdown",
   "source": "### 1. Select all the posting job for company name given by input and with requested location and for a specific job location",
   "id": "86aa842de9f799f3"
  },
  {
   "metadata": {
    "ExecuteTime": {
     "end_time": "2025-04-03T17:56:58.674112Z",
     "start_time": "2025-04-03T17:56:58.659668Z"
    }
   },
   "cell_type": "code",
   "source": [
    "company_input = widgets.Text(placeholder=\"Insert the company name\")\n",
    "location_input = widgets.Text(placeholder=\"Insert the preferred location\")\n",
    "job_title_input = widgets.Text(placeholder=\"Insert the job title\")\n",
    "search_button = widgets.Button(description=\"Look for job posting\", button_style=\"primary\")\n",
    "output = widgets.Output()\n",
    "\n",
    "def search_jobs(b):\n",
    "    with output:\n",
    "        output.clear_output()\n",
    "        company = company_input.value.strip() or None\n",
    "        location = location_input.value.strip() or None\n",
    "        job_title = job_title_input.value.strip() or None\n",
    "\n",
    "        conn = None\n",
    "\n",
    "        try:\n",
    "            conn = get_db_connection()\n",
    "            cur = conn.cursor()\n",
    "\n",
    "            query = '''\n",
    "            SELECT p.\"JOB_ID\", c.\"NAME\", p.\"LOCATION\", p.\"TITLE\" FROM public.\"POSTING\" p\n",
    "            JOIN public.\"COMPANIES\" c ON c.\"ID\" = p.\"COMPANY_ID\"\n",
    "            WHERE (%s IS NULL OR UPPER(c.\"NAME\") ILIKE UPPER(%s)) \n",
    "            AND (%s IS NULL OR UPPER(p.\"LOCATION\") ILIKE UPPER(%s)) \n",
    "            AND (%s IS NULL OR UPPER(p.\"TITLE\") ILIKE UPPER(%s))\n",
    "            ORDER BY \"JOB_ID\" ASC\n",
    "            LIMIT 10;\n",
    "            '''\n",
    "\n",
    "            params = (\n",
    "                company, f\"%{company}%\" if company else None,\n",
    "                location, f\"%{location}%\" if location else None,\n",
    "                job_title, f\"%{job_title}%\" if job_title else None\n",
    "            )\n",
    "\n",
    "            start_time = time.time()\n",
    "            cur.execute(query, params)\n",
    "            rows = cur.fetchall()\n",
    "            end_time = time.time()\n",
    "            execution_time = end_time - start_time\n",
    "            cur.close()\n",
    "            conn.close()\n",
    "\n",
    "            print(f\"Query executed in {execution_time:.4f} seconds\")\n",
    "\n",
    "            if rows:\n",
    "                df = pd.DataFrame(rows, columns=[\"JOB_ID\", \"COMPANY_NAME\", \"LOCATION\", \"TITLE\"])\n",
    "                display(df)\n",
    "            else:\n",
    "                print(\"No job postings found with the selected parameters.\")\n",
    "\n",
    "        except psycopg2.Error as e:\n",
    "            if conn:\n",
    "                conn.rollback()\n",
    "            print(f\"Database error: {e}\")\n",
    "\n",
    "        except Exception as e:\n",
    "            print(f\"Unexpected error: {e}\")\n",
    "\n",
    "        finally:\n",
    "            if conn:\n",
    "                conn.close()\n",
    "                \n",
    "search_button.on_click(search_jobs)\n",
    "\n",
    "display(widgets.VBox([\n",
    "    widgets.Label(\"Company Name:\"), company_input,\n",
    "    widgets.Label(\"Location:\"), location_input,\n",
    "    widgets.Label(\"Job Title:\"), job_title_input,\n",
    "    search_button, output\n",
    "]))"
   ],
   "id": "55beb3d71179fd93",
   "outputs": [
    {
     "data": {
      "text/plain": [
       "VBox(children=(Label(value='Company Name:'), Text(value='', placeholder='Insert the company name'), Label(valu…"
      ],
      "application/vnd.jupyter.widget-view+json": {
       "version_major": 2,
       "version_minor": 0,
       "model_id": "92a027626bed4ffea66d779550cc9dcf"
      }
     },
     "metadata": {},
     "output_type": "display_data"
    }
   ],
   "execution_count": 4
  },
  {
   "metadata": {},
   "cell_type": "markdown",
   "source": "### 2. Select all the job postings for the TechGiant (more than 500 employees and in the IT industry) DA IMPLEMENTARE SICURAMENTE",
   "id": "9094811d45f0acf0"
  },
  {
   "metadata": {},
   "cell_type": "markdown",
   "source": "#### Without linking with the foreign key between COMPANY_ID in the POSTING table and ID in the COMPANY table",
   "id": "5b9d3fd834a58802"
  },
  {
   "metadata": {
    "ExecuteTime": {
     "end_time": "2025-04-03T17:57:59.487009Z",
     "start_time": "2025-04-03T17:57:59.475501Z"
    }
   },
   "cell_type": "code",
   "source": [
    "industry_input = widgets.Text(placeholder=\"Insert the Industry domain\")\n",
    "company_input = widgets.Text(placeholder=\"Insert the company name\")\n",
    "search_button = widgets.Button(description=\"Look for job posting\", button_style=\"primary\")\n",
    "output = widgets.Output()\n",
    "\n",
    "def search_jobs(b):\n",
    "    with output:\n",
    "        output.clear_output()\n",
    "        company = company_input.value.strip() or None\n",
    "        industry = industry_input.value.strip() or None\n",
    "\n",
    "        conn = None\n",
    "\n",
    "        try:\n",
    "            conn = get_db_connection()\n",
    "            cur = conn.cursor()\n",
    "\n",
    "            query = '''\n",
    "            SELECT DISTINCT P.\"COMPANY_NAME\", P.\"VIEWS\", P.\"PAY_PERIOD\", P.\"APPLIES\", P.\"EXPIRY\", CI.\"INDUSTRY\"\n",
    "            FROM public.\"POSTING\" P \n",
    "            JOIN public.\"COMPANY_INDUSTRY\" CI ON P.\"COMPANY_ID\" = CI.\"COMPANY_ID\"\n",
    "            JOIN public.\"EMPLOYEE_COUNTS\" EC ON P.\"COMPANY_ID\" = EC.\"COMPANY_ID\" \n",
    "            WHERE EC.\"EMPLOYEE_COUNT\" > 2000 \n",
    "            AND \"VIEWS\" IS NOT NULL\n",
    "            AND (%s IS NULL OR UPPER(CI.\"INDUSTRY\") ILIKE UPPER(%s))\n",
    "            AND (%s IS NULL OR UPPER(P.\"COMPANY_NAME\") ILIKE UPPER(%s)) \n",
    "            ORDER BY \"VIEWS\" DESC\n",
    "            LIMIT 20;\n",
    "            '''\n",
    "            \n",
    "            params = (\n",
    "                industry, f\"%{industry}%\" if industry else None,\n",
    "                company, f\"%{company}%\" if company else None\n",
    "            )\n",
    "\n",
    "            start_time = time.time()\n",
    "            cur.execute(query, params)\n",
    "            rows = cur.fetchall()\n",
    "            end_time = time.time()\n",
    "            execution_time = end_time - start_time\n",
    "            cur.close()\n",
    "            conn.close()\n",
    "\n",
    "            print(f\"Query executed in {execution_time:.4f} seconds\")\n",
    "\n",
    "            if rows:\n",
    "                df = pd.DataFrame(rows,\n",
    "                                  columns=[\"COMPANY_NAME\", \"VIEWS\", \"PAY_PERIOD\", \"APPLIES\", \"EXPIRY\", \"INDUSTRY\"])\n",
    "                display(df)\n",
    "            else:\n",
    "                print(\"No job postings found for TechGiant companies.\")\n",
    "\n",
    "        except psycopg2.Error as e:\n",
    "            if conn:\n",
    "                conn.rollback()\n",
    "            print(f\"Database error: {e}\")\n",
    "\n",
    "        except Exception as e:\n",
    "            print(f\"Unexpected error: {e}\")\n",
    "\n",
    "        finally:\n",
    "            if conn:\n",
    "                conn.close()\n",
    "\n",
    "search_button.on_click(search_jobs)\n",
    "display(widgets.VBox([\n",
    "    widgets.Label(\"Industry:\"), industry_input,\n",
    "    widgets.Label(\"Company Name:\"), company_input,\n",
    "    search_button, output\n",
    "]))"
   ],
   "id": "54ebbf7f9aaff39e",
   "outputs": [
    {
     "data": {
      "text/plain": [
       "VBox(children=(Label(value='Industry:'), Text(value='', placeholder='Insert the Industry domain'), Label(value…"
      ],
      "application/vnd.jupyter.widget-view+json": {
       "version_major": 2,
       "version_minor": 0,
       "model_id": "051e1d77bec84c36af4814e2d7db53c1"
      }
     },
     "metadata": {},
     "output_type": "display_data"
    }
   ],
   "execution_count": 5
  },
  {
   "metadata": {
    "ExecuteTime": {
     "end_time": "2025-04-02T14:22:38.478418Z",
     "start_time": "2025-04-02T14:22:38.462859Z"
    }
   },
   "cell_type": "code",
   "source": [
    "industry_input = widgets.Text(placeholder=\"Insert the Industry domain\")\n",
    "company_input = widgets.Text(placeholder=\"Insert the company name\")\n",
    "search_button = widgets.Button(description=\"Look for job posting\", button_style=\"primary\")\n",
    "output = widgets.Output()\n",
    "\n",
    "def search_jobs(b):\n",
    "    with output:\n",
    "        output.clear_output()\n",
    "        company = company_input.value.strip() or None\n",
    "        industry = industry_input.value.strip() or None\n",
    "\n",
    "        conn = None\n",
    "\n",
    "        try:\n",
    "            conn = get_db_connection()\n",
    "            cur = conn.cursor()\n",
    "\n",
    "            query = '''\n",
    "            SELECT DISTINCT P.\"JOB_ID\", P.\"COMPANY_NAME\", P.\"TITLE\", P.\"VIEWS\", P.\"PAY_PERIOD\", P.\"APPLIES\", P.\"EXPIRY\", CI.\"INDUSTRY\"\n",
    "            FROM public.\"POSTING\" P \n",
    "            JOIN public.\"COMPANY_INDUSTRY\" CI ON P.\"COMPANY_ID\" = CI.\"COMPANY_ID\"\n",
    "            JOIN public.\"EMPLOYEE_COUNTS\" EC ON P.\"COMPANY_ID\" = EC.\"COMPANY_ID\" \n",
    "            WHERE EC.\"EMPLOYEE_COUNT\" > 2000 \n",
    "            AND \"VIEWS\" IS NOT NULL\n",
    "            AND (%s IS NULL OR UPPER(CI.\"INDUSTRY\") ILIKE UPPER(%s))\n",
    "            AND (%s IS NULL OR UPPER(P.\"COMPANY_NAME\") ILIKE UPPER(%s)) \n",
    "            ORDER BY \"VIEWS\" DESC\n",
    "            LIMIT 20;\n",
    "            '''\n",
    "            \n",
    "            params = (\n",
    "                industry, f\"%{industry}%\" if industry else None,\n",
    "                company, f\"%{company}%\" if company else None\n",
    "            )\n",
    "\n",
    "            start_time = time.time()\n",
    "            cur.execute(query, params)\n",
    "            rows = cur.fetchall()\n",
    "            end_time = time.time()\n",
    "            execution_time = end_time - start_time\n",
    "            cur.close()\n",
    "            conn.close()\n",
    "\n",
    "            print(f\"Query executed in {execution_time:.4f} seconds\")\n",
    "\n",
    "            if rows:\n",
    "                df = pd.DataFrame(rows,\n",
    "                                  columns=[\"JOB_ID\", \"COMPANY_NAME\", \"TITLE\", \"VIEWS\", \"PAY_PERIOD\", \"APPLIES\", \"EXPIRY\", \"INDUSTRY\"])\n",
    "                display(df)\n",
    "            else:\n",
    "                print(\"No job postings found for TechGiant companies.\")\n",
    "\n",
    "        except psycopg2.Error as e:\n",
    "            if conn:\n",
    "                conn.rollback()\n",
    "            print(f\"Database error: {e}\")\n",
    "\n",
    "        except Exception as e:\n",
    "            print(f\"Unexpected error: {e}\")\n",
    "\n",
    "        finally:\n",
    "            if conn:\n",
    "                conn.close()\n",
    "\n",
    "search_button.on_click(search_jobs)\n",
    "display(widgets.VBox([\n",
    "    widgets.Label(\"Industry:\"), industry_input,\n",
    "    widgets.Label(\"Company Name:\"), company_input,\n",
    "    search_button, output\n",
    "]))"
   ],
   "id": "4286abd6d7d3f60",
   "outputs": [
    {
     "data": {
      "text/plain": [
       "VBox(children=(Label(value='Industry:'), Text(value='', placeholder='Insert the Industry domain'), Label(value…"
      ],
      "application/vnd.jupyter.widget-view+json": {
       "version_major": 2,
       "version_minor": 0,
       "model_id": "5258fd4da0e44b19921fa4566173049a"
      }
     },
     "metadata": {},
     "output_type": "display_data"
    }
   ],
   "execution_count": 24
  },
  {
   "metadata": {},
   "cell_type": "markdown",
   "source": [
    "### 3. Select all the companies and job position requested which salary is between two values given by input. Add info such as, all the part-time with USD payment and Monthly pay period, I want also to select the industry and the job should match at least 1 of my skill, order by number of skill matched\n",
    "\n",
    "Considering today is today but one year early select all the active job postings that allows for remote working, that pay in USD, from companies with name given by input and that respect the characteristics of the logged user DA INTEGRARE CON LA 4"
   ],
   "id": "71352120c63bbcde"
  },
  {
   "metadata": {
    "ExecuteTime": {
     "end_time": "2025-04-03T17:59:17.861503Z",
     "start_time": "2025-04-03T17:59:17.789922Z"
    }
   },
   "cell_type": "code",
   "source": [
    "def fetch_users():\n",
    "    conn = get_db_connection()\n",
    "    cur = conn.cursor()\n",
    "    cur.execute('SELECT \"ID\", \"NAME\", \"SURNAME\", \"MAIL\" FROM public.\"USERS\" ORDER BY \"NAME\";')\n",
    "    users = cur.fetchall()\n",
    "    cur.close()\n",
    "    conn.close()\n",
    "    return {f\"{name} {surname} ({email})\": user_id for user_id, name, surname, email in users}\n",
    "\n",
    "user_dict = fetch_users()\n",
    "user_dropdown = widgets.Dropdown(\n",
    "    options=[(\"Select a user\", None)] + list(user_dict.items()),\n",
    "    description=\"User:\",\n",
    "    style={\"description_width\": \"auto\"})\n",
    "currency_input = widgets.Text(placeholder=\"Currency (e.g., USD)\", description=\"Currency:\")\n",
    "job_type_input = widgets.Text(placeholder=\"Job Type (e.g., Part-time)\", description=\"Job Type:\")\n",
    "pay_period_input = widgets.Text(placeholder=\"Pay Period (e.g., Monthly)\", description=\"Pay Period:\")\n",
    "industry_input = widgets.Text(placeholder=\"Industry (e.g., Tech)\", description=\"Industry:\")\n",
    "company_input = widgets.Text(placeholder=\"Company Name\", description=\"Company:\")\n",
    "min_salary_input = widgets.IntText(value=0, description=\"Min Salary:\")\n",
    "max_salary_input = widgets.IntText(value=100000, description=\"Max Salary:\")\n",
    "salary_slider = widgets.IntSlider(\n",
    "    value=50000, min=0, max=100000, step=100, description=\"Quick Select:\", continuous_update=True\n",
    ")\n",
    "\n",
    "def update_salary_inputs(change):\n",
    "    min_salary_input.value, max_salary_input.value = salary_slider.value - 10000, salary_slider.value + 10000\n",
    "\n",
    "salary_slider.observe(update_salary_inputs, names=\"value\")\n",
    "search_button = widgets.Button(description=\"Look for job postings\", button_style=\"primary\")\n",
    "output = widgets.Output()\n",
    "\n",
    "def search_jobs(b):\n",
    "    with output:\n",
    "        output.clear_output()\n",
    "        currency = currency_input.value.strip() or None\n",
    "        job_type = job_type_input.value.strip() or None\n",
    "        pay_period = pay_period_input.value.strip() or None\n",
    "        industry = industry_input.value.strip() or None\n",
    "        company = company_input.value.strip() or None\n",
    "        min_salary = int(min_salary_input.value)\n",
    "        max_salary = int(max_salary_input.value)\n",
    "        selected_user = user_dropdown.value\n",
    "        if not selected_user:\n",
    "            print(\"Please select a user before searching for jobs.\")\n",
    "            return\n",
    "        try:\n",
    "            conn = get_db_connection()\n",
    "            cur = conn.cursor()\n",
    "\n",
    "            query = '''            \n",
    "            SELECT p.\"COMPANY_NAME\", p.\"TITLE\", p.\"PAY_PERIOD\", p.\"CURRENCY\", p.\"WORK_TYPE\", \n",
    "            s.\"MIN_SALARY\", s.\"MAX_SALARY\", i.\"NAME\" AS industry, skill_match_count\n",
    "            FROM public.\"POSTING\" p\n",
    "            JOIN public.\"SALARIES\" s ON p.\"JOB_ID\" = s.\"JOB_ID\"\n",
    "            JOIN public.\"JOB_INDUSTRIES\" ji ON p.\"JOB_ID\" = ji.\"JOB_ID\"\n",
    "            JOIN public.\"INDUSTRIES\" i ON ji.\"INDUSTRY_ID\" = i.\"ID\"\n",
    "            LEFT JOIN (\n",
    "                SELECT js.\"JOB_ID\", COUNT(*) AS skill_match_count\n",
    "                FROM public.\"JOB_SKILLS\" js\n",
    "                JOIN public.\"SKILL\" sk ON js.\"SKILL_ID\" = sk.\"ID\"\n",
    "                JOIN public.\"USER_SKILL\" us ON sk.\"ID\" = us.\"SKILL_ID\"\n",
    "                WHERE us.\"USER_ID\" = %s\n",
    "                GROUP BY js.\"JOB_ID\"\n",
    "            ) jsm ON p.\"JOB_ID\" = jsm.\"JOB_ID\"\n",
    "            WHERE \n",
    "                p.\"EXPIRY\" >= (EXTRACT(EPOCH FROM NOW()) - (365 * 24 * 60 * 60)) * 1000\n",
    "                AND skill_match_count IS NOT NULL\n",
    "                AND (%s IS NULL OR UPPER(p.\"CURRENCY\") ILIKE UPPER(%s))\n",
    "                AND (%s IS NULL OR UPPER(p.\"WORK_TYPE\") ILIKE UPPER(%s))\n",
    "                AND (%s IS NULL OR UPPER(p.\"PAY_PERIOD\") ILIKE UPPER(%s))\n",
    "                AND (%s IS NULL OR UPPER(p.\"COMPANY_NAME\") ILIKE UPPER(%s))\n",
    "                AND (%s IS NULL OR UPPER(i.\"NAME\") ILIKE UPPER(%s))\n",
    "                AND (s.\"MIN_SALARY\" >= %s)\n",
    "                AND (s.\"MAX_SALARY\" <= %s)\n",
    "            ORDER BY skill_match_count DESC\n",
    "            LIMIT 20;\n",
    "            '''\n",
    "            params = (\n",
    "                selected_user,\n",
    "                currency, f\"%{currency}%\" if currency else None,\n",
    "                job_type, f\"%{job_type}%\" if job_type else None,\n",
    "                pay_period, f\"%{pay_period}%\" if pay_period else None,\n",
    "                company, f\"%{company}%\" if company else None,\n",
    "                industry, f\"%{industry}%\" if industry else None,\n",
    "                min_salary,\n",
    "                max_salary\n",
    "            )\n",
    "\n",
    "            start_time = time.time()\n",
    "            cur.execute(query, params)\n",
    "            rows = cur.fetchall()\n",
    "            end_time = time.time()\n",
    "            execution_time = end_time - start_time\n",
    "            cur.close()\n",
    "            conn.close()\n",
    "\n",
    "            print(f\"Query executed in {execution_time:.4f} seconds\")\n",
    "            \n",
    "            if rows:\n",
    "                df = pd.DataFrame(rows, columns=[\"COMPANY_NAME\", \"JOB_TITLE\", \"PAY_PERIOD\", \"CURRENCY\", \"WORK_TYPE\",\n",
    "                                                 \"MIN_SALARY\", \"MAX_SALARY\", \"INDUSTRY\", \"SKILL_MATCHED\"])\n",
    "                display(df)\n",
    "            else:\n",
    "                print(\"No job postings found with the given filters.\")\n",
    "\n",
    "        except psycopg2.Error as e:\n",
    "            if conn:\n",
    "                conn.rollback()\n",
    "            print(f\"Database error: {e}\")\n",
    "\n",
    "        except Exception as e:\n",
    "            print(f\"Unexpected error: {e}\")\n",
    "\n",
    "        finally:\n",
    "            if conn:\n",
    "                conn.close()\n",
    "\n",
    "search_button.on_click(search_jobs)\n",
    "display(widgets.VBox([\n",
    "    widgets.Label(\"Select User:\"), user_dropdown,\n",
    "    widgets.Label(\"Enter Job Filters:\"), currency_input,\n",
    "    job_type_input, pay_period_input, industry_input, company_input,\n",
    "    min_salary_input, max_salary_input, salary_slider,\n",
    "    search_button, output\n",
    "]))"
   ],
   "id": "66412321b62f79a6",
   "outputs": [
    {
     "data": {
      "text/plain": [
       "VBox(children=(Label(value='Select User:'), Dropdown(description='User:', options=(('Select a user', None), ('…"
      ],
      "application/vnd.jupyter.widget-view+json": {
       "version_major": 2,
       "version_minor": 0,
       "model_id": "8c881bbed4f54a7b841f8c9447fbf0d2"
      }
     },
     "metadata": {},
     "output_type": "display_data"
    }
   ],
   "execution_count": 7
  },
  {
   "metadata": {},
   "cell_type": "markdown",
   "source": [
    "### 4. NEGATED SUB QUERY NELLA WHERE CONDITION\n",
    "\n",
    "POTREMMO INSERIRE QUI PER ESEMPIO DOVE NON E RICHIESTO ESSERE AL DI SOPRA DELL ENTRY LEVEL, IMPORTANTE ANCHE PER L OTTIMIZZAZIONE FARE PRIMA NELLA SUBQUERY UNA SELECT ALL E POI FARE SOLO UNA SELECT 1 PER ANNULLARE I TEMPI DI PROCESSIN DELL ULTIMA.\n",
    "\n",
    "\n",
    "TUTTE LE INDUSTRIE PIU REDDITIZIE IN CUI POTER LAVORARE SENZA AVERE LIVELLO DI ESPERIENZA PIU DI ENTRY LEVEL, DATE LE MIE SKILL"
   ],
   "id": "3e5199dcd9477143"
  },
  {
   "metadata": {
    "ExecuteTime": {
     "end_time": "2025-04-03T19:47:51.769356Z",
     "start_time": "2025-04-03T19:47:51.716670Z"
    }
   },
   "cell_type": "code",
   "source": [
    "def fetch_users():\n",
    "    conn = get_db_connection()\n",
    "    cur = conn.cursor()\n",
    "    cur.execute('SELECT \"ID\", \"NAME\", \"SURNAME\", \"MAIL\", \"EXPERIENCE\" FROM public.\"USERS\" ORDER BY \"NAME\";')\n",
    "    users = cur.fetchall()\n",
    "    cur.close()\n",
    "    conn.close()\n",
    "    return {f\"{name} {surname} ({email})\": (user_id) for user_id, name, surname, email, experience in users}\n",
    "\n",
    "user_dict = fetch_users()\n",
    "user_dropdown = widgets.Dropdown(\n",
    "    options=[(\"Select a user\", (None, None))] + list(user_dict.items()),\n",
    "    description=\"User:\",\n",
    "    style={\"description_width\": \"auto\"}\n",
    ")\n",
    "\n",
    "search_button = widgets.Button(description=\"Find industries\", button_style=\"primary\")\n",
    "output = widgets.Output()\n",
    "\n",
    "def find_profitable_industries(b):\n",
    "    with output:\n",
    "        output.clear_output()\n",
    "        selected_user_id = user_dropdown.value\n",
    "        \n",
    "        if not selected_user_id:\n",
    "            print(\"Select a valid user\")\n",
    "            return\n",
    "\n",
    "        conn = None\n",
    "        try:\n",
    "            conn = get_db_connection()\n",
    "            cur = conn.cursor()\n",
    "\n",
    "            query = \"\"\"\n",
    "                SELECT ind.\"NAME\" AS industry_name,\n",
    "                       COUNT(p.\"JOB_ID\") AS job_postings,\n",
    "                       ROUND(AVG(COALESCE(s.\"MIN_SALARY\", 0)), 3) AS avg_min_salary,\n",
    "                       ROUND(AVG(COALESCE(s.\"MAX_SALARY\", 0)), 3) AS avg_max_salary\n",
    "                FROM public.\"INDUSTRIES\" ind\n",
    "                JOIN public.\"JOB_INDUSTRIES\" ji ON ind.\"ID\" = ji.\"INDUSTRY_ID\"\n",
    "                JOIN public.\"POSTING\" p ON ji.\"JOB_ID\" = p.\"JOB_ID\"\n",
    "                LEFT JOIN public.\"SALARIES\" s ON p.\"JOB_ID\" = s.\"JOB_ID\"\n",
    "                JOIN public.\"JOB_SKILLS\" js ON p.\"JOB_ID\" = js.\"JOB_ID\"\n",
    "                JOIN public.\"USER_SKILL\" us ON js.\"SKILL_ID\" = us.\"SKILL_ID\"\n",
    "                WHERE p.\"FORMATTED_EXPERIENCE_LEVEL\" = (SELECT \"EXPERIENCE\" FROM public.\"USERS\" WHERE \"ID\" = %s)\n",
    "                AND us.\"USER_ID\" = %s\n",
    "                GROUP BY ind.\"NAME\"\n",
    "                ORDER BY avg_min_salary DESC, avg_max_salary DESC\n",
    "                LIMIT 10;\n",
    "            \"\"\"\n",
    "            # COSI MATCHANO TUTTE LE SKILL DEL JOB CON QUELLE DELL UTENTE SELEZIONATO\n",
    "            # CON QUESTA SOTTO INVECE MATCHA SOLO UNA DELLE SKILL DEL LAVORO TRA QUELLE DELL UTENTE\n",
    "            '''\n",
    "                        query = \"\"\"\n",
    "                SELECT ind.\"NAME\" AS industry_name,\n",
    "                       COUNT(p.\"JOB_ID\") AS job_postings,\n",
    "                       ROUND(AVG(COALESCE(s.\"MIN_SALARY\", 0)), 3) AS avg_min_salary,\n",
    "                       ROUND(AVG(COALESCE(s.\"MAX_SALARY\", 0)), 3) AS avg_max_salary\n",
    "                FROM public.\"INDUSTRIES\" ind\n",
    "                JOIN public.\"JOB_INDUSTRIES\" ji ON ind.\"ID\" = ji.\"INDUSTRY_ID\"\n",
    "                JOIN public.\"POSTING\" p ON ji.\"JOB_ID\" = p.\"JOB_ID\"\n",
    "                LEFT JOIN public.\"SALARIES\" s ON p.\"JOB_ID\" = s.\"JOB_ID\"\n",
    "                WHERE p.\"FORMATTED_EXPERIENCE_LEVEL\" = (SELECT \"EXPERIENCE\" FROM public.\"USERS\" WHERE \"ID\" = %s)\n",
    "                AND EXISTS (\n",
    "                    SELECT 1 FROM public.\"JOB_SKILLS\" js\n",
    "                    WHERE js.\"JOB_ID\" = p.\"JOB_ID\"\n",
    "                    AND EXISTS (\n",
    "                        SELECT 1 FROM public.\"USER_SKILL\" us\n",
    "                        WHERE us.\"USER_ID\" = %s\n",
    "                        AND us.\"SKILL_ID\" = js.\"SKILL_ID\"\n",
    "                    )\n",
    "                )\n",
    "                GROUP BY ind.\"NAME\"\n",
    "                ORDER BY avg_min_salary DESC, avg_max_salary DESC\n",
    "                LIMIT 10;\n",
    "            \"\"\"\n",
    "'''\n",
    "            start_time = time.time()\n",
    "            cur.execute(query, (selected_user_id, selected_user_id))\n",
    "            rows = cur.fetchall()\n",
    "            end_time = time.time()\n",
    "            execution_time = end_time - start_time\n",
    "            cur.close()\n",
    "            conn.close()\n",
    "\n",
    "            print(f\"Query executed in {execution_time:.4f} seconds\")\n",
    "\n",
    "            if rows:\n",
    "                df = pd.DataFrame(rows, columns=[\"Industry\", \"Job Postings\", \"Avg Min Salary\", \"Avg Max Salary\"])\n",
    "                display(df)\n",
    "            else:\n",
    "                print(\"No data founded for the given user\")\n",
    "\n",
    "        except psycopg2.Error as e:\n",
    "            if conn:\n",
    "                conn.rollback()\n",
    "            print(f\"Database error: {e}\")\n",
    "\n",
    "        except Exception as e:\n",
    "            print(f\"Unexpected error: {e}\")\n",
    "\n",
    "        finally:\n",
    "            if conn:\n",
    "                conn.close()\n",
    "\n",
    "search_button.on_click(find_profitable_industries)\n",
    "display(widgets.VBox([\n",
    "    widgets.Label(\"Select a user to find more payed industries for him/her:\"),\n",
    "    user_dropdown,\n",
    "    search_button,\n",
    "    output\n",
    "]))"
   ],
   "id": "2848db082c304c6",
   "outputs": [
    {
     "data": {
      "text/plain": [
       "VBox(children=(Label(value='Select a user to find more payed industries for him/her:'), Dropdown(description='…"
      ],
      "application/vnd.jupyter.widget-view+json": {
       "version_major": 2,
       "version_minor": 0,
       "model_id": "9a725592155c45f6b41a4a812984c315"
      }
     },
     "metadata": {},
     "output_type": "display_data"
    }
   ],
   "execution_count": 13
  },
  {
   "metadata": {},
   "cell_type": "markdown",
   "source": "### 5. Select all the how many job postings each company has and its maximum recorded employee count. add also the ratio of growing thanks to the time column computed as the proportion of employee since the first time recorded employees count and the last, replicate also for the follower ",
   "id": "68536cbea73908d8"
  },
  {
   "metadata": {},
   "cell_type": "markdown",
   "source": [
    "VERRA OTTIMIZATA CON VIEW SULLE DUE JOIN TRAMITE QUERY ANNIDATE\n",
    "\n",
    "NULLIF to avoid division by zero"
   ],
   "id": "b134cfb8c0dfab90"
  },
  {
   "metadata": {
    "ExecuteTime": {
     "end_time": "2025-04-03T18:52:32.094380Z",
     "start_time": "2025-04-03T18:52:32.076876Z"
    }
   },
   "cell_type": "code",
   "source": [
    "company_name_input = widgets.Text(placeholder=\"Enter Company Name\", description=\"Company:\")\n",
    "search_button = widgets.Button(description=\"Analyze Company Growth\", button_style=\"primary\")\n",
    "output = widgets.Output()\n",
    "\n",
    "def analyze_company_growth(b):\n",
    "    with output:\n",
    "        output.clear_output()\n",
    "        company_name = company_name_input.value.strip()\n",
    "        \n",
    "        conn = None\n",
    "        try:\n",
    "            conn = get_db_connection()\n",
    "            cur = conn.cursor()\n",
    "\n",
    "            query = '''\n",
    "                SELECT \n",
    "                    c.\"NAME\" AS company_name,\n",
    "                    jc.job_postings,\n",
    "                    eg.first_employee_count,                   \n",
    "                    eg.last_employee_count,\n",
    "                    eg.first_follower_count,                    \n",
    "                    eg.last_follower_count,\n",
    "                    ROUND((eg.last_employee_count - eg.first_employee_count) * 1.0 / NULLIF(eg.first_employee_count, 0), 3) AS employee_growth_ratio,\n",
    "                    ROUND((eg.last_follower_count - eg.first_follower_count) * 1.0 / NULLIF(eg.first_follower_count, 0), 3) AS follower_growth_ratio\n",
    "                FROM public.\"COMPANIES\" c\n",
    "                JOIN (\n",
    "                    SELECT \n",
    "                        \"COMPANY_ID\",\n",
    "                        MIN(\"EMPLOYEE_COUNT\") AS first_employee_count,\n",
    "                        MAX(\"EMPLOYEE_COUNT\") AS last_employee_count,\n",
    "                        MIN(\"FOLLOWER_COUNT\") AS first_follower_count,\n",
    "                        MAX(\"FOLLOWER_COUNT\") AS last_follower_count\n",
    "                    FROM public.\"EMPLOYEE_COUNTS\"\n",
    "                    GROUP BY \"COMPANY_ID\"\n",
    "                ) AS eg ON c.\"ID\" = eg.\"COMPANY_ID\"\n",
    "                JOIN (\n",
    "                    SELECT \"COMPANY_ID\", COUNT(*) AS job_postings\n",
    "                    FROM public.\"POSTING\"\n",
    "                    GROUP BY \"COMPANY_ID\"\n",
    "                ) AS jc ON c.\"ID\" = jc.\"COMPANY_ID\"\n",
    "                WHERE (%s IS NULL OR UPPER(c.\"NAME\") ILIKE UPPER(%s))\n",
    "                ORDER BY employee_growth_ratio DESC, follower_growth_ratio DESC;\n",
    "            '''\n",
    "            params = (company_name if company_name else None, f\"%{company_name}%\" if company_name else None)\n",
    "\n",
    "            start_time = time.time()\n",
    "            cur.execute(query, params)\n",
    "            rows = cur.fetchall()\n",
    "            end_time = time.time()\n",
    "            execution_time = end_time - start_time\n",
    "            cur.close()\n",
    "            conn.close()\n",
    "\n",
    "            print(f\"Query executed in {execution_time:.4f} seconds\")\n",
    "            \n",
    "            if rows:\n",
    "                df = pd.DataFrame(rows, columns=[\"Company Name\", \"Job Postings\", \"Min Employees\", \n",
    "                                                 \"Max Employees\", \"Min Followers\", \"Max Followers\", \n",
    "                                                 \"Employee Growth Ratio\", \"Follower Growth Ratio\"])\n",
    "                display(df)\n",
    "            else:\n",
    "                print(\"No company data found.\")\n",
    "\n",
    "        except psycopg2.Error as e:\n",
    "            if conn:\n",
    "                conn.rollback()\n",
    "            print(f\"Database error: {e}\")\n",
    "\n",
    "        except Exception as e:\n",
    "            print(f\"Unexpected error: {e}\")\n",
    "\n",
    "        finally:\n",
    "            if conn:\n",
    "                conn.close()\n",
    "\n",
    "search_button.on_click(analyze_company_growth)\n",
    "display(widgets.VBox([\n",
    "    widgets.Label(\"Enter a company name to filter results (leave blank for all):\"),\n",
    "    company_name_input,\n",
    "    search_button,\n",
    "    output\n",
    "]))"
   ],
   "id": "7e1bc64c205a8d22",
   "outputs": [
    {
     "data": {
      "text/plain": [
       "VBox(children=(Label(value='Enter a company name to filter results (leave blank for all):'), Text(value='', de…"
      ],
      "application/vnd.jupyter.widget-view+json": {
       "version_major": 2,
       "version_minor": 0,
       "model_id": "fc37c1d6bd3341c6baabd32a982946e1"
      }
     },
     "metadata": {},
     "output_type": "display_data"
    }
   ],
   "execution_count": 46
  },
  {
   "metadata": {},
   "cell_type": "markdown",
   "source": "### 6. Select all the VOGLIO SAPERE SE NEL MIO STATO CI SONO TANTE AZIENDE DELLA MIA STESSA TIPOLOGIA(INDUSTRY) al mio stesso livello: numero di job posting, numero di employee e numero di follower. E CHE HANNO LE MIE STESSE SPECIALITA, nelle select condition mettere la media del salario massimo e minimo per capire io come comportarmi con i salari",
   "id": "31b69f8068d1a0e8"
  },
  {
   "metadata": {},
   "cell_type": "markdown",
   "source": "USA NOT IN INVECE DI <>",
   "id": "bdd642004113acbd"
  },
  {
   "metadata": {
    "ExecuteTime": {
     "end_time": "2025-04-03T19:16:59.137169Z",
     "start_time": "2025-04-03T19:16:59.117060Z"
    }
   },
   "cell_type": "code",
   "source": [
    "search_box = widgets.Text(\n",
    "    description=\"Company:\",\n",
    "    placeholder=\"Enter company name\"\n",
    ")\n",
    "search_button = widgets.Button(description=\"Analyze Jobs\", button_style=\"primary\")\n",
    "output = widgets.Output()\n",
    "\n",
    "def find_similar_companies(b):\n",
    "    with output:\n",
    "        output.clear_output()\n",
    "\n",
    "        conn = None\n",
    "        try:\n",
    "            conn = get_db_connection()\n",
    "            cur = conn.cursor()\n",
    "\n",
    "            company_name = search_box.value\n",
    "\n",
    "            query = \"\"\"\n",
    "                SELECT \n",
    "                    c.\"NAME\" AS company_name,\n",
    "                    c.\"STATE\" AS company_state,\n",
    "                    s.\"PAY_PERIOD\" AS pay_period,\n",
    "                    ci.\"INDUSTRY\" AS industry,\n",
    "                    COUNT(p.\"JOB_ID\") AS job_postings,\n",
    "                    MAX(ec.\"EMPLOYEE_COUNT\") AS avg_employee_count,\n",
    "                    MAX(ec.\"FOLLOWER_COUNT\") AS avg_follower_count,\n",
    "                    ROUND(AVG(s.\"MIN_SALARY\"), 3) AS avg_min_salary,\n",
    "                    ROUND(AVG(s.\"MAX_SALARY\"), 3) AS avg_max_salary\n",
    "                FROM public.\"COMPANIES\" c\n",
    "                JOIN public.\"COMPANY_INDUSTRY\" ci ON c.\"ID\" = ci.\"COMPANY_ID\"\n",
    "                LEFT JOIN public.\"POSTING\" p ON c.\"ID\" = p.\"COMPANY_ID\"\n",
    "                LEFT JOIN public.\"EMPLOYEE_COUNTS\" ec ON c.\"ID\" = ec.\"COMPANY_ID\"\n",
    "                LEFT JOIN public.\"SALARIES\" s ON p.\"JOB_ID\" = s.\"JOB_ID\"\n",
    "                WHERE \n",
    "                    ci.\"INDUSTRY\" = (\n",
    "                        SELECT \"INDUSTRY\" \n",
    "                        FROM public.\"COMPANY_INDUSTRY\" \n",
    "                        WHERE \"COMPANY_ID\" = (\n",
    "                            SELECT \"ID\" FROM public.\"COMPANIES\" WHERE \"NAME\" ILIKE %s\n",
    "                        )\n",
    "                    ) \n",
    "                    AND c.\"STATE\" = (\n",
    "                        SELECT \"STATE\" \n",
    "                        FROM public.\"COMPANIES\" \n",
    "                        WHERE \"NAME\" ILIKE %s\n",
    "                    )\n",
    "                    AND c.\"ID\" <> (\n",
    "                        SELECT \"ID\" \n",
    "                        FROM public.\"COMPANIES\" \n",
    "                        WHERE \"NAME\" ILIKE %s\n",
    "                    )\n",
    "                AND ec.\"EMPLOYEE_COUNT\" IS NOT NULL\n",
    "                AND ec.\"FOLLOWER_COUNT\" IS NOT NULL\n",
    "                AND s.\"MAX_SALARY\" IS NOT NULL\n",
    "                AND s.\"MIN_SALARY\" IS NOT NULL\n",
    "                GROUP BY c.\"NAME\", c.\"STATE\", s.\"PAY_PERIOD\", ci.\"INDUSTRY\"\n",
    "                ORDER BY avg_employee_count DESC, avg_follower_count DESC\n",
    "                LIMIT 10;\n",
    "            \"\"\"\n",
    "            \n",
    "            start_time = time.time()\n",
    "            cur.execute(query, (company_name, company_name, company_name))\n",
    "            rows = cur.fetchall()\n",
    "            end_time = time.time()\n",
    "            execution_time = end_time - start_time\n",
    "            cur.close()\n",
    "            conn.close()\n",
    "\n",
    "            print(f\"Query executed in {execution_time:.4f} seconds\")\n",
    "\n",
    "            if rows:\n",
    "                df = pd.DataFrame(rows, columns=[\"Company Name\", \"State\", \"Pay Period\", \"Industry\", \"Job Postings\", \n",
    "                                                 \"Employee Count\", \"Follower Count\", \"Avg Min Salary\", \"Avg Max Salary\"])\n",
    "                display(df)\n",
    "            else:\n",
    "                print(\"No data found for the query.\")\n",
    "\n",
    "        except psycopg2.Error as e:\n",
    "            if conn:\n",
    "                conn.rollback()\n",
    "            print(f\"Database error: {e}\")\n",
    "\n",
    "        except Exception as e:\n",
    "            print(f\"Unexpected error: {e}\")\n",
    "\n",
    "        finally:\n",
    "            if conn:\n",
    "                conn.close()\n",
    "\n",
    "search_button.on_click(find_similar_companies)\n",
    "display(widgets.VBox([\n",
    "    widgets.Label(\"Enter your company name and click below to analyze similar companies:\"),\n",
    "    search_box,\n",
    "    search_button,\n",
    "    output\n",
    "]))"
   ],
   "id": "cbcaee0a633f820e",
   "outputs": [
    {
     "data": {
      "text/plain": [
       "VBox(children=(Label(value='Enter your company name and click below to analyze similar companies:'), Text(valu…"
      ],
      "application/vnd.jupyter.widget-view+json": {
       "version_major": 2,
       "version_minor": 0,
       "model_id": "5cd6af03e9b2402a988fdb02ca46d120"
      }
     },
     "metadata": {},
     "output_type": "display_data"
    }
   ],
   "execution_count": 60
  },
  {
   "metadata": {},
   "cell_type": "markdown",
   "source": "### 7. Finds job listings by country and their salary informations, but only for countries with more than 50 job postings",
   "id": "aca09a225f82b24c"
  },
  {
   "metadata": {
    "ExecuteTime": {
     "end_time": "2025-04-03T18:03:09.003398Z",
     "start_time": "2025-04-03T18:03:08.994377Z"
    }
   },
   "cell_type": "code",
   "source": [
    "search_button = widgets.Button(description=\"Analyze Jobs\", button_style=\"primary\")\n",
    "output = widgets.Output()\n",
    "\n",
    "def jobs_by_country(b):\n",
    "    with output:\n",
    "        output.clear_output()\n",
    "\n",
    "        conn = None\n",
    "        try:\n",
    "            conn = get_db_connection()\n",
    "            cur = conn.cursor()\n",
    "\n",
    "            query = \"\"\"\n",
    "                SELECT c.\"COUNTRY\", COUNT(p.\"JOB_ID\") AS total_jobs, \n",
    "                ROUND(AVG(s.\"MIN_SALARY\"),3) AS avg_min_salary,\n",
    "                ROUND(AVG(s.\"MED_SALARY\"),3) AS avg_med_salary,\n",
    "                ROUND(AVG(s.\"MAX_SALARY\"),3) AS avg_max_salary\n",
    "                FROM public.\"POSTING\" p\n",
    "                JOIN public.\"COMPANIES\" c ON p.\"COMPANY_ID\" = c.\"ID\"\n",
    "                LEFT JOIN public.\"SALARIES\" s ON p.\"JOB_ID\" = s.\"JOB_ID\"\n",
    "                GROUP BY c.\"COUNTRY\"\n",
    "                HAVING COUNT(p.\"JOB_ID\") > 50\n",
    "                ORDER BY total_jobs DESC;\n",
    "            \"\"\"\n",
    "            \n",
    "            start_time = time.time()\n",
    "            cur.execute(query)\n",
    "            rows = cur.fetchall()\n",
    "            end_time = time.time()\n",
    "            execution_time = end_time - start_time\n",
    "            cur.close()\n",
    "            conn.close()\n",
    "\n",
    "            print(f\"Query executed in {execution_time:.4f} seconds\")\n",
    "\n",
    "            if rows:\n",
    "                df = pd.DataFrame(rows, columns=[\"Country\", \"Number of Job Offers\", \"Avg Min Salary\", \"Avg Med Salary\", \"Avg Max Salary\"])\n",
    "                display(df)\n",
    "            else:\n",
    "                print(\"No data found for the query.\")\n",
    "\n",
    "        except psycopg2.Error as e:\n",
    "            if conn:\n",
    "                conn.rollback()\n",
    "            print(f\"Database error: {e}\")\n",
    "\n",
    "        except Exception as e:\n",
    "            print(f\"Unexpected error: {e}\")\n",
    "\n",
    "        finally:\n",
    "            if conn:\n",
    "                conn.close()\n",
    "search_button.on_click(jobs_by_country)\n",
    "\n",
    "display(widgets.VBox([\n",
    "    widgets.Label(\"Click below to analyze the job postings for each country:\"),\n",
    "    search_button,\n",
    "    output\n",
    "]))"
   ],
   "id": "2f2ae7a86209342e",
   "outputs": [
    {
     "data": {
      "text/plain": [
       "VBox(children=(Label(value='Click below to analyze the job postings for each country:'), Button(button_style='…"
      ],
      "application/vnd.jupyter.widget-view+json": {
       "version_major": 2,
       "version_minor": 0,
       "model_id": "77463d8aade1485696dc7dbad95f2671"
      }
     },
     "metadata": {},
     "output_type": "display_data"
    }
   ],
   "execution_count": 10
  },
  {
   "metadata": {},
   "cell_type": "markdown",
   "source": "### 8. Select the top 10 job title which in percentage are more requested remotely",
   "id": "44e08af27d378f83"
  },
  {
   "metadata": {
    "ExecuteTime": {
     "end_time": "2025-04-03T18:04:51.793927Z",
     "start_time": "2025-04-03T18:04:51.770383Z"
    }
   },
   "cell_type": "code",
   "source": [
    "search_button = widgets.Button(description=\"Analyze Remote Jobs\", button_style=\"primary\")\n",
    "output = widgets.Output()\n",
    "\n",
    "def top_5_jobs(b):\n",
    "    with output:\n",
    "        output.clear_output()\n",
    "\n",
    "        conn = None\n",
    "        try:\n",
    "            conn = get_db_connection()\n",
    "            cur = conn.cursor()\n",
    "\n",
    "            query = \"\"\"\n",
    "                SELECT \n",
    "                p.\"TITLE\", \n",
    "                COUNT(*) AS total_offers, \n",
    "                SUM(CASE WHEN p.\"REMOTE_ALLOWED\" = '1.0' THEN 1 ELSE 0 END) AS remotes_allowed, \n",
    "                ROUND(SUM(CASE WHEN p.\"REMOTE_ALLOWED\" = '1.0' THEN 1 ELSE 0 END) * 100.0 / COUNT(*), 3) AS percentage_remote\n",
    "                FROM public.\"POSTING\" p\n",
    "                GROUP BY \"TITLE\"\n",
    "                HAVING COUNT(*) > 0\n",
    "                ORDER BY remotes_allowed DESC\n",
    "                LIMIT 10;\n",
    "            \"\"\"\n",
    "            start_time = time.time()\n",
    "            cur.execute(query)\n",
    "            rows = cur.fetchall()\n",
    "            end_time = time.time()\n",
    "            execution_time = end_time - start_time\n",
    "            cur.close()\n",
    "            conn.close()\n",
    "\n",
    "            print(f\"Query executed in {execution_time:.4f} seconds\")\n",
    "\n",
    "            if rows:\n",
    "                df = pd.DataFrame(rows, columns=[\"Job Title\", \"Total Job Offers\", \"Remote Jobs Allowed\", \"Percentage Remote\"])\n",
    "                display(df)\n",
    "            else:\n",
    "                print(\"No data found for the query.\")\n",
    "\n",
    "        except psycopg2.Error as e:\n",
    "            if conn:\n",
    "                conn.rollback()\n",
    "            print(f\"Database error: {e}\")\n",
    "\n",
    "        except Exception as e:\n",
    "            print(f\"Unexpected error: {e}\")\n",
    "\n",
    "        finally:\n",
    "            if conn:\n",
    "                conn.close()\n",
    "                \n",
    "search_button.on_click(top_5_jobs)\n",
    "display(widgets.VBox([\n",
    "    widgets.Label(\"Click below to analyze the remote job postings:\"),\n",
    "    search_button,\n",
    "    output\n",
    "]))"
   ],
   "id": "bad064d98d9bf4bb",
   "outputs": [
    {
     "data": {
      "text/plain": [
       "VBox(children=(Label(value='Click below to analyze the remote job postings:'), Button(button_style='primary', …"
      ],
      "application/vnd.jupyter.widget-view+json": {
       "version_major": 2,
       "version_minor": 0,
       "model_id": "5cb7f197b8c340358873f7de375b72a4"
      }
     },
     "metadata": {},
     "output_type": "display_data"
    }
   ],
   "execution_count": 13
  },
  {
   "metadata": {},
   "cell_type": "markdown",
   "source": [
    "### 9. Select the top titles with less time requested to close the posting \n",
    "- visualizzare i top 3 lavori con minor tempo medio per chiudere la job posting(possiamo usare anche le application per quel lavoro per calcolare quanto sia proficua quella proposta di lavoro) la piu richiesta tipologia di lavoro\n",
    "aggiungere anche quali sono le piu diffici da prendere anche considerando il rapportto applies views"
   ],
   "id": "52bdbe3e32b8886d"
  },
  {
   "metadata": {
    "ExecuteTime": {
     "end_time": "2025-04-03T18:05:07.833735Z",
     "start_time": "2025-04-03T18:05:07.822220Z"
    }
   },
   "cell_type": "code",
   "source": [
    "search_button = widgets.Button(description=\"Analyze Job Postings\", button_style=\"primary\")\n",
    "output = widgets.Output()\n",
    "\n",
    "def most_requested_jobs(b):\n",
    "    with output:\n",
    "        output.clear_output()\n",
    "\n",
    "        conn = None\n",
    "        try:\n",
    "            conn = get_db_connection()\n",
    "            cur = conn.cursor()\n",
    "\n",
    "            query = \"\"\"\n",
    "            SELECT p.\"TITLE\", \n",
    "            ROUND(AVG(p.\"CLOSED_TIME\" - p.\"LISTED_TIME\"),3) AS avg_closing_time,\n",
    "                       SUM(CASE \n",
    "                               WHEN p.\"APPLIES\" IS NOT NULL AND p.\"APPLIES\" > 0 \n",
    "                               THEN p.\"APPLIES\" \n",
    "                               ELSE 0 \n",
    "                           END) AS total_applies,\n",
    "                       SUM(CASE \n",
    "                               WHEN p.\"VIEWS\" IS NOT NULL AND p.\"VIEWS\" > 0 \n",
    "                               THEN p.\"VIEWS\" \n",
    "                               ELSE 0 \n",
    "                           END) AS total_views,\n",
    "                       COUNT(p.\"TITLE\") AS num_postings\n",
    "                FROM public.\"POSTING\" p\n",
    "                GROUP BY p.\"TITLE\"\n",
    "                HAVING COUNT(p.\"TITLE\") >= 5 AND AVG(p.\"CLOSED_TIME\" - p.\"LISTED_TIME\") > 86400\n",
    "                ORDER BY avg_closing_time ASC\n",
    "                LIMIT 3;\n",
    "            \"\"\"\n",
    "            start_time = time.time()\n",
    "            cur.execute(query)\n",
    "            rows = cur.fetchall()\n",
    "            end_time = time.time()\n",
    "            execution_time = end_time - start_time\n",
    "            cur.close()\n",
    "            conn.close()\n",
    "\n",
    "            print(f\"Query executed in {execution_time:.4f} seconds\")\n",
    "\n",
    "            if rows:\n",
    "                df = pd.DataFrame(rows, columns=[\"Job Title\", \"Avg Closing Time (ms)\", \"Total Applies\", \"Total Views\", \"Num Postings\"])\n",
    "                display(df)\n",
    "            else:\n",
    "                print(\"No data found for the query.\")\n",
    "\n",
    "        except psycopg2.Error as e:\n",
    "            if conn:\n",
    "                conn.rollback()\n",
    "            print(f\"Database error: {e}\")\n",
    "\n",
    "        except Exception as e:\n",
    "            print(f\"Unexpected error: {e}\")\n",
    "\n",
    "        finally:\n",
    "            if conn:\n",
    "                conn.close()\n",
    "\n",
    "search_button.on_click(most_requested_jobs)\n",
    "display(widgets.VBox([\n",
    "    widgets.Label(\"Click below to analyze the job postings with the lowest closing time:\"),\n",
    "    search_button,\n",
    "    output\n",
    "]))"
   ],
   "id": "3b26fe66f670a77c",
   "outputs": [
    {
     "data": {
      "text/plain": [
       "VBox(children=(Label(value='Click below to analyze the job postings with the lowest closing time:'), Button(bu…"
      ],
      "application/vnd.jupyter.widget-view+json": {
       "version_major": 2,
       "version_minor": 0,
       "model_id": "40915024b2dc4364bd685cd9284de87c"
      }
     },
     "metadata": {},
     "output_type": "display_data"
    }
   ],
   "execution_count": 14
  },
  {
   "metadata": {},
   "cell_type": "markdown",
   "source": "### 10. Finds the top 10 most in-demand and payed skills by industry",
   "id": "e4d4b38dadf8fb49"
  },
  {
   "metadata": {
    "ExecuteTime": {
     "end_time": "2025-04-03T18:09:14.469557Z",
     "start_time": "2025-04-03T18:09:14.448576Z"
    }
   },
   "cell_type": "code",
   "source": [
    "search_button = widgets.Button(description=\"Analyze Job Skills and Industries\", button_style=\"primary\")\n",
    "output = widgets.Output()\n",
    "\n",
    "def most_payed_skills(b):\n",
    "    with output:\n",
    "        output.clear_output()\n",
    "        conn = None\n",
    "        try:\n",
    "            conn = get_db_connection()\n",
    "            cur = conn.cursor()\n",
    "            \n",
    "            query = \"\"\"\n",
    "            SELECT sk.\"SKILL_NAME\", ind.\"NAME\" AS industry, \n",
    "                   COUNT(js.\"JOB_ID\") AS job_count, \n",
    "                   ROUND(AVG(s.\"MAX_SALARY\"), 2) AS avg_max_salary\n",
    "            FROM public.\"JOB_SKILLS\" js\n",
    "            JOIN public.\"SKILL\" sk ON js.\"SKILL_ID\" = sk.\"ID\"\n",
    "            JOIN public.\"JOB_INDUSTRIES\" ji ON js.\"JOB_ID\" = ji.\"JOB_ID\"\n",
    "            JOIN public.\"INDUSTRIES\" ind ON ji.\"INDUSTRY_ID\" = ind.\"ID\"\n",
    "            LEFT JOIN public.\"SALARIES\" s ON js.\"JOB_ID\" = s.\"JOB_ID\"\n",
    "            GROUP BY sk.\"SKILL_NAME\", ind.\"NAME\"\n",
    "            ORDER BY job_count DESC, avg_max_salary DESC\n",
    "            LIMIT 10;\n",
    "        \"\"\"\n",
    "            \n",
    "            start_time = time.time()\n",
    "            cur.execute(query)\n",
    "            rows = cur.fetchall()\n",
    "            end_time = time.time()\n",
    "            execution_time = end_time - start_time\n",
    "            cur.close()\n",
    "            conn.close()\n",
    "\n",
    "            print(f\"Query executed in {execution_time:.4f} seconds\")\n",
    "\n",
    "            if rows:\n",
    "                df = pd.DataFrame(rows, columns=[\"Skill Name\", \"Industry\", \"Job Count\", \"Avg Max Salary\"])\n",
    "                display(df)\n",
    "            else:\n",
    "                print(\"No data found for the query.\")\n",
    "\n",
    "        except psycopg2.Error as e:\n",
    "            if conn:\n",
    "                conn.rollback()\n",
    "            print(f\"Database error: {e}\")\n",
    "\n",
    "        except Exception as e:\n",
    "            print(f\"Unexpected error: {e}\")\n",
    "\n",
    "        finally:\n",
    "            if conn:\n",
    "                conn.close()\n",
    "\n",
    "search_button.on_click(most_payed_skills)\n",
    "display(widgets.VBox([\n",
    "    widgets.Label(\"Click below to analyze the job skills and industries data:\"),\n",
    "    search_button,\n",
    "    output\n",
    "]))"
   ],
   "id": "fe6450210ad85fa7",
   "outputs": [
    {
     "data": {
      "text/plain": [
       "VBox(children=(Label(value='Click below to analyze the job skills and industries data:'), Button(button_style=…"
      ],
      "application/vnd.jupyter.widget-view+json": {
       "version_major": 2,
       "version_minor": 0,
       "model_id": "81d035db3b174633a30628b63258042b"
      }
     },
     "metadata": {},
     "output_type": "display_data"
    }
   ],
   "execution_count": 21
  },
  {
   "metadata": {},
   "cell_type": "markdown",
   "source": [
    "Views can make the query faster allowing for temporarily queries that store huge info instead to compute it into the query itself, but these are not stored in the memory like usual table and this can cause slower access since the views are not optimized to being accessed like normal table.\n",
    "\n",
    "TRADE OFF: Faster computation of JOIN for example that can be directly stored into a virtual table, Slower access since it is not optimized for it."
   ],
   "id": "2138f84b94b1d1c1"
  },
  {
   "metadata": {},
   "cell_type": "markdown",
   "source": [
    "NOTE PER OTTIMIZZAZIONE:\n",
    "\n",
    "Depending on your query patterns, you might want to add additional indexes. For example, if you frequently query JOB_SKILLS by SKILL_ID, consider adding an index on SKILL_ID in JOB_SKILLS.\n",
    "\n",
    "Likewise, if certain columns are frequently used in filters (e.g., STATE in COMPANIES, EXPERIENCE in USERS), indexes might improve performance."
   ],
   "id": "15f4c068c78ac70d"
  },
  {
   "metadata": {},
   "cell_type": "markdown",
   "source": "MODIFICARE IL TIMESTAMP ORA IN UNIX MILLISECONDS DIRETTAMENTE CON PYTHON NELLA RISPOSTA",
   "id": "31708b4c4093d392"
  },
  {
   "metadata": {},
   "cell_type": "markdown",
   "source": "## SQL evaluation and optimization",
   "id": "13e0a13c7b8c1483"
  },
  {
   "metadata": {},
   "cell_type": "markdown",
   "source": "### sql1",
   "id": "8775e67b98153a71"
  },
  {
   "metadata": {},
   "cell_type": "code",
   "outputs": [],
   "execution_count": null,
   "source": "",
   "id": "3e8c0a80a01ad15"
  }
 ],
 "metadata": {
  "kernelspec": {
   "display_name": "Python 3",
   "language": "python",
   "name": "python3"
  },
  "language_info": {
   "codemirror_mode": {
    "name": "ipython",
    "version": 2
   },
   "file_extension": ".py",
   "mimetype": "text/x-python",
   "name": "python",
   "nbconvert_exporter": "python",
   "pygments_lexer": "ipython2",
   "version": "2.7.6"
  }
 },
 "nbformat": 4,
 "nbformat_minor": 5
}
