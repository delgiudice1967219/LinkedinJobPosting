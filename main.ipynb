{
 "cells": [
  {
   "metadata": {},
   "cell_type": "markdown",
   "source": "## Install and import packages",
   "id": "e727738360212951"
  },
  {
   "cell_type": "code",
   "id": "initial_id",
   "metadata": {
    "collapsed": true,
    "ExecuteTime": {
     "end_time": "2025-03-31T17:29:49.564498Z",
     "start_time": "2025-03-31T17:29:48.593765Z"
    }
   },
   "source": "%pip install pandas numpy psycopg2 ipywidgets",
   "outputs": [
    {
     "name": "stdout",
     "output_type": "stream",
     "text": [
      "Requirement already satisfied: pandas in c:\\users\\xavie\\pycharmprojects\\linkedinjobposting\\.venv\\lib\\site-packages (2.2.3)\n",
      "Requirement already satisfied: numpy in c:\\users\\xavie\\pycharmprojects\\linkedinjobposting\\.venv\\lib\\site-packages (2.2.4)\n",
      "Requirement already satisfied: psycopg2 in c:\\users\\xavie\\pycharmprojects\\linkedinjobposting\\.venv\\lib\\site-packages (2.9.10)\n",
      "Requirement already satisfied: ipywidgets in c:\\users\\xavie\\pycharmprojects\\linkedinjobposting\\.venv\\lib\\site-packages (8.1.5)\n",
      "Requirement already satisfied: python-dateutil>=2.8.2 in c:\\users\\xavie\\pycharmprojects\\linkedinjobposting\\.venv\\lib\\site-packages (from pandas) (2.9.0.post0)\n",
      "Requirement already satisfied: pytz>=2020.1 in c:\\users\\xavie\\pycharmprojects\\linkedinjobposting\\.venv\\lib\\site-packages (from pandas) (2025.1)\n",
      "Requirement already satisfied: tzdata>=2022.7 in c:\\users\\xavie\\pycharmprojects\\linkedinjobposting\\.venv\\lib\\site-packages (from pandas) (2025.2)\n",
      "Requirement already satisfied: comm>=0.1.3 in c:\\users\\xavie\\pycharmprojects\\linkedinjobposting\\.venv\\lib\\site-packages (from ipywidgets) (0.2.2)\n",
      "Requirement already satisfied: ipython>=6.1.0 in c:\\users\\xavie\\pycharmprojects\\linkedinjobposting\\.venv\\lib\\site-packages (from ipywidgets) (8.34.0)\n",
      "Requirement already satisfied: traitlets>=4.3.1 in c:\\users\\xavie\\pycharmprojects\\linkedinjobposting\\.venv\\lib\\site-packages (from ipywidgets) (5.14.3)\n",
      "Requirement already satisfied: widgetsnbextension~=4.0.12 in c:\\users\\xavie\\pycharmprojects\\linkedinjobposting\\.venv\\lib\\site-packages (from ipywidgets) (4.0.13)\n",
      "Requirement already satisfied: jupyterlab-widgets~=3.0.12 in c:\\users\\xavie\\pycharmprojects\\linkedinjobposting\\.venv\\lib\\site-packages (from ipywidgets) (3.0.13)\n",
      "Requirement already satisfied: colorama in c:\\users\\xavie\\pycharmprojects\\linkedinjobposting\\.venv\\lib\\site-packages (from ipython>=6.1.0->ipywidgets) (0.4.6)\n",
      "Requirement already satisfied: decorator in c:\\users\\xavie\\pycharmprojects\\linkedinjobposting\\.venv\\lib\\site-packages (from ipython>=6.1.0->ipywidgets) (5.2.1)\n",
      "Requirement already satisfied: exceptiongroup in c:\\users\\xavie\\pycharmprojects\\linkedinjobposting\\.venv\\lib\\site-packages (from ipython>=6.1.0->ipywidgets) (1.2.2)\n",
      "Requirement already satisfied: jedi>=0.16 in c:\\users\\xavie\\pycharmprojects\\linkedinjobposting\\.venv\\lib\\site-packages (from ipython>=6.1.0->ipywidgets) (0.19.2)\n",
      "Requirement already satisfied: matplotlib-inline in c:\\users\\xavie\\pycharmprojects\\linkedinjobposting\\.venv\\lib\\site-packages (from ipython>=6.1.0->ipywidgets) (0.1.7)\n",
      "Requirement already satisfied: prompt_toolkit<3.1.0,>=3.0.41 in c:\\users\\xavie\\pycharmprojects\\linkedinjobposting\\.venv\\lib\\site-packages (from ipython>=6.1.0->ipywidgets) (3.0.50)\n",
      "Requirement already satisfied: pygments>=2.4.0 in c:\\users\\xavie\\pycharmprojects\\linkedinjobposting\\.venv\\lib\\site-packages (from ipython>=6.1.0->ipywidgets) (2.19.1)\n",
      "Requirement already satisfied: stack_data in c:\\users\\xavie\\pycharmprojects\\linkedinjobposting\\.venv\\lib\\site-packages (from ipython>=6.1.0->ipywidgets) (0.6.3)\n",
      "Requirement already satisfied: typing_extensions>=4.6 in c:\\users\\xavie\\pycharmprojects\\linkedinjobposting\\.venv\\lib\\site-packages (from ipython>=6.1.0->ipywidgets) (4.12.2)\n",
      "Requirement already satisfied: six>=1.5 in c:\\users\\xavie\\pycharmprojects\\linkedinjobposting\\.venv\\lib\\site-packages (from python-dateutil>=2.8.2->pandas) (1.17.0)\n",
      "Requirement already satisfied: parso<0.9.0,>=0.8.4 in c:\\users\\xavie\\pycharmprojects\\linkedinjobposting\\.venv\\lib\\site-packages (from jedi>=0.16->ipython>=6.1.0->ipywidgets) (0.8.4)\n",
      "Requirement already satisfied: wcwidth in c:\\users\\xavie\\pycharmprojects\\linkedinjobposting\\.venv\\lib\\site-packages (from prompt_toolkit<3.1.0,>=3.0.41->ipython>=6.1.0->ipywidgets) (0.2.13)\n",
      "Requirement already satisfied: executing>=1.2.0 in c:\\users\\xavie\\pycharmprojects\\linkedinjobposting\\.venv\\lib\\site-packages (from stack_data->ipython>=6.1.0->ipywidgets) (2.2.0)\n",
      "Requirement already satisfied: asttokens>=2.1.0 in c:\\users\\xavie\\pycharmprojects\\linkedinjobposting\\.venv\\lib\\site-packages (from stack_data->ipython>=6.1.0->ipywidgets) (3.0.0)\n",
      "Requirement already satisfied: pure-eval in c:\\users\\xavie\\pycharmprojects\\linkedinjobposting\\.venv\\lib\\site-packages (from stack_data->ipython>=6.1.0->ipywidgets) (0.2.3)\n",
      "Note: you may need to restart the kernel to use updated packages.\n"
     ]
    },
    {
     "name": "stderr",
     "output_type": "stream",
     "text": [
      "\n",
      "[notice] A new release of pip is available: 23.2.1 -> 25.0.1\n",
      "[notice] To update, run: python.exe -m pip install --upgrade pip\n"
     ]
    }
   ],
   "execution_count": 1
  },
  {
   "metadata": {
    "ExecuteTime": {
     "end_time": "2025-03-31T17:29:51.179664Z",
     "start_time": "2025-03-31T17:29:51.117505Z"
    }
   },
   "cell_type": "code",
   "source": [
    "import time\n",
    "import ipywidgets as widgets\n",
    "import psycopg2\n",
    "from IPython.display import display\n",
    "import re"
   ],
   "id": "b136ac5d03729a64",
   "outputs": [],
   "execution_count": 2
  },
  {
   "metadata": {},
   "cell_type": "markdown",
   "source": "## Connect to DB",
   "id": "1c3c24c10418ab0d"
  },
  {
   "metadata": {
    "ExecuteTime": {
     "end_time": "2025-03-31T17:52:40.137041Z",
     "start_time": "2025-03-31T17:52:39.453129Z"
    }
   },
   "cell_type": "code",
   "source": [
    "DB_NAME = \"neondb\"\n",
    "DB_USER = \"andrea\"\n",
    "DB_PASS = \"Sapienza2025!\"\n",
    "DB_HOST = \"ep-old-wind-a505sf8m-pooler.us-east-2.aws.neon.tech\"\n",
    "DB_PORT = \"5432\"\n",
    "\n",
    "\n",
    "def get_db_connection():\n",
    "    return psycopg2.connect(\n",
    "        dbname=DB_NAME, user=DB_USER, password=DB_PASS,\n",
    "        host=DB_HOST, port=DB_PORT\n",
    "    )\n",
    "\n",
    "\n",
    "conn = psycopg2.connect(\n",
    "    dbname=DB_NAME, user=DB_USER, password=DB_PASS,\n",
    "    host=DB_HOST, port=DB_PORT\n",
    ")"
   ],
   "id": "f649eb374c2c8aea",
   "outputs": [],
   "execution_count": 7
  },
  {
   "metadata": {},
   "cell_type": "markdown",
   "source": "## Insert your personal information",
   "id": "105ead5dca05cad6"
  },
  {
   "metadata": {
    "ExecuteTime": {
     "end_time": "2025-03-31T17:52:44.628748Z",
     "start_time": "2025-03-31T17:52:43.503282Z"
    }
   },
   "cell_type": "code",
   "source": [
    "import re\n",
    "import ipywidgets as widgets\n",
    "\n",
    "# Connessione al database\n",
    "conn = get_db_connection()\n",
    "\n",
    "cur = conn.cursor()\n",
    "cur.execute('''SELECT DISTINCT \"FORMATTED_EXPERIENCE_LEVEL\" FROM public.\"POSTING\" WHERE \"FORMATTED_EXPERIENCE_LEVEL\" IS NOT NULL ORDER BY \"FORMATTED_EXPERIENCE_LEVEL\" ASC''')\n",
    "experience_levels = [row[0] for row in cur.fetchall()]\n",
    "cur.close()\n",
    "\n",
    "cur = conn.cursor()\n",
    "cur.execute('''SELECT DISTINCT \"ID\", \"SKILL_NAME\" FROM public.\"SKILL\" WHERE \"SKILL_NAME\" IS NOT NULL ORDER BY \"SKILL_NAME\" ASC''')\n",
    "skill_data = cur.fetchall()\n",
    "skill_dict = {row[1]: row[0] for row in skill_data}  # Dizionario {skill_name: skill_id}\n",
    "skill_names = list(skill_dict.keys())\n",
    "cur.close()\n",
    "\n",
    "# Pattern per validare l'email\n",
    "email_pattern = r'^[a-zA-Z0-9._%+-]+@[a-zA-Z0-9.-]+\\.[a-zA-Z]{2,}$'\n",
    "\n",
    "# Creazione widget\n",
    "name_input = widgets.Text(placeholder=\"Insert your name\")\n",
    "surname_input = widgets.Text(placeholder=\"Insert your surname\")\n",
    "email_input = widgets.Text(placeholder=\"Insert your email\")\n",
    "experience_input = widgets.Dropdown(options=experience_levels, description=\"Experience:\")\n",
    "skill_input = widgets.SelectMultiple(options=skill_names, description=\"Skills:\")\n",
    "button = widgets.Button(description=\"Insert Data\", button_style=\"success\")\n",
    "\n",
    "output = widgets.Output()\n",
    "\n",
    "def insert_data(b):\n",
    "    with output:\n",
    "        output.clear_output()\n",
    "        name = name_input.value\n",
    "        surname = surname_input.value\n",
    "        email = email_input.value\n",
    "        experience = experience_input.value\n",
    "        selected_skills = skill_input.value  # Lista delle skill selezionate\n",
    "        \n",
    "        # Validazione email\n",
    "        if not re.match(email_pattern, email):\n",
    "            print(\"Warning: Invalid email format. Please enter a valid email address.\")\n",
    "            email_input.value = \"\"\n",
    "            return\n",
    "        \n",
    "        try:\n",
    "            cur = conn.cursor()\n",
    "            # Inserimento utente\n",
    "            query_user = '''INSERT INTO public.\"USERS\" (\"NAME\", \"SURNAME\", \"MAIL\", \"EXPERIENCE\") \n",
    "                            VALUES (%s, %s, %s, %s) RETURNING \"USER_ID\"'''\n",
    "            cur.execute(query_user, (name, surname, email, experience))\n",
    "            user_id = cur.fetchone()[0]  # Recupero USER_ID\n",
    "            conn.commit()\n",
    "            \n",
    "            # Inserimento skill per l'utente\n",
    "            if selected_skills:\n",
    "                query_skill = '''INSERT INTO public.\"USER_SKILL\" (\"USER_ID\", \"SKILL_ID\") VALUES (%s, %s)'''\n",
    "                for skill_name in selected_skills:\n",
    "                    skill_id = skill_dict[skill_name]\n",
    "                    cur.execute(query_skill, (user_id, skill_id))\n",
    "                \n",
    "                conn.commit()\n",
    "            \n",
    "            cur.close()\n",
    "            print(\"Data inserted successfully!\")\n",
    "        except Exception as e:\n",
    "            print(f\"Error while connecting to database: {e}\")\n",
    "\n",
    "# Collegamento del bottone all'evento\n",
    "button.on_click(insert_data)\n",
    "\n",
    "# Visualizzazione dei widget\n",
    "display(widgets.VBox([widgets.Label(\"Name:\"), name_input,\n",
    "                      widgets.Label(\"Surname:\"), surname_input,\n",
    "                      widgets.Label(\"Email:\"), email_input,\n",
    "                      experience_input,\n",
    "                      skill_input,\n",
    "                      button, output]))"
   ],
   "id": "d2c9bf963565068c",
   "outputs": [
    {
     "ename": "UndefinedColumn",
     "evalue": "column \"ID\" does not exist\nLINE 1: SELECT DISTINCT \"ID\", \"SKILL_NAME\" FROM public.\"SKILL\" WHERE...\n                        ^\n",
     "output_type": "error",
     "traceback": [
      "\u001B[1;31m---------------------------------------------------------------------------\u001B[0m",
      "\u001B[1;31mUndefinedColumn\u001B[0m                           Traceback (most recent call last)",
      "Cell \u001B[1;32mIn[8], line 13\u001B[0m\n\u001B[0;32m     10\u001B[0m cur\u001B[38;5;241m.\u001B[39mclose()\n\u001B[0;32m     12\u001B[0m cur \u001B[38;5;241m=\u001B[39m conn\u001B[38;5;241m.\u001B[39mcursor()\n\u001B[1;32m---> 13\u001B[0m \u001B[43mcur\u001B[49m\u001B[38;5;241;43m.\u001B[39;49m\u001B[43mexecute\u001B[49m\u001B[43m(\u001B[49m\u001B[38;5;124;43m'''\u001B[39;49m\u001B[38;5;124;43mSELECT DISTINCT \u001B[39;49m\u001B[38;5;124;43m\"\u001B[39;49m\u001B[38;5;124;43mID\u001B[39;49m\u001B[38;5;124;43m\"\u001B[39;49m\u001B[38;5;124;43m, \u001B[39;49m\u001B[38;5;124;43m\"\u001B[39;49m\u001B[38;5;124;43mSKILL_NAME\u001B[39;49m\u001B[38;5;124;43m\"\u001B[39;49m\u001B[38;5;124;43m FROM public.\u001B[39;49m\u001B[38;5;124;43m\"\u001B[39;49m\u001B[38;5;124;43mSKILL\u001B[39;49m\u001B[38;5;124;43m\"\u001B[39;49m\u001B[38;5;124;43m WHERE \u001B[39;49m\u001B[38;5;124;43m\"\u001B[39;49m\u001B[38;5;124;43mSKILL_NAME\u001B[39;49m\u001B[38;5;124;43m\"\u001B[39;49m\u001B[38;5;124;43m IS NOT NULL ORDER BY \u001B[39;49m\u001B[38;5;124;43m\"\u001B[39;49m\u001B[38;5;124;43mSKILL_NAME\u001B[39;49m\u001B[38;5;124;43m\"\u001B[39;49m\u001B[38;5;124;43m ASC\u001B[39;49m\u001B[38;5;124;43m'''\u001B[39;49m\u001B[43m)\u001B[49m\n\u001B[0;32m     14\u001B[0m skill_data \u001B[38;5;241m=\u001B[39m cur\u001B[38;5;241m.\u001B[39mfetchall()\n\u001B[0;32m     15\u001B[0m skill_dict \u001B[38;5;241m=\u001B[39m {row[\u001B[38;5;241m1\u001B[39m]: row[\u001B[38;5;241m0\u001B[39m] \u001B[38;5;28;01mfor\u001B[39;00m row \u001B[38;5;129;01min\u001B[39;00m skill_data}  \u001B[38;5;66;03m# Dizionario {skill_name: skill_id}\u001B[39;00m\n",
      "\u001B[1;31mUndefinedColumn\u001B[0m: column \"ID\" does not exist\nLINE 1: SELECT DISTINCT \"ID\", \"SKILL_NAME\" FROM public.\"SKILL\" WHERE...\n                        ^\n"
     ]
    }
   ],
   "execution_count": 8
  },
  {
   "metadata": {},
   "cell_type": "markdown",
   "source": "## Some interesting insight/question that can be extracted from data:\n",
   "id": "2ffdefce22781028"
  },
  {
   "metadata": {},
   "cell_type": "markdown",
   "source": "Most In-Demand Job Titles",
   "id": "d5666c9eceb456e8"
  },
  {
   "metadata": {},
   "cell_type": "markdown",
   "source": [
    "```SQL \n",
    "SELECT \"job_title\", COUNT(*) AS num_postings\n",
    "FROM public.\"postings\"\n",
    "GROUP BY \"job_title\"\n",
    "ORDER BY num_postings DESC\n",
    "LIMIT 10;\n",
    "```"
   ],
   "id": "c76e32ee2ce45f52"
  },
  {
   "metadata": {},
   "cell_type": "markdown",
   "source": "Most Hiring Companies",
   "id": "42e33b90ef09e895"
  },
  {
   "metadata": {},
   "cell_type": "markdown",
   "source": [
    "```SQL \n",
    "SELECT \"company_name\", COUNT(*) AS num_postings\n",
    "FROM public.\"postings\"\n",
    "GROUP BY \"company_name\"\n",
    "ORDER BY num_postings DESC\n",
    "LIMIT 10;\n",
    "```"
   ],
   "id": "b49203232f86a747"
  },
  {
   "metadata": {},
   "cell_type": "markdown",
   "source": "Job Locations with Highest Demand",
   "id": "e59342056bb68576"
  },
  {
   "metadata": {},
   "cell_type": "markdown",
   "source": [
    "```SQL \n",
    "SELECT \"job_location\", COUNT(*) AS num_postings\n",
    "FROM public.\"postings\"\n",
    "GROUP BY \"job_location\"\n",
    "ORDER BY num_postings DESC\n",
    "LIMIT 10;\n",
    "```"
   ],
   "id": "28fad672b443617e"
  },
  {
   "metadata": {},
   "cell_type": "markdown",
   "source": "Average Salary for Each Job Title (if salary info is available)",
   "id": "a5830c46fca2044d"
  },
  {
   "metadata": {},
   "cell_type": "markdown",
   "source": [
    "```SQL \n",
    "SELECT \"job_title\", AVG(\"salary\") AS avg_salary\n",
    "FROM public.\"postings\"\n",
    "WHERE \"salary\" IS NOT NULL\n",
    "GROUP BY \"job_title\"\n",
    "ORDER BY avg_salary DESC\n",
    "LIMIT 10;\n",
    "```"
   ],
   "id": "61e83d5e3f37b63e"
  },
  {
   "metadata": {},
   "cell_type": "markdown",
   "source": "Remote vs On-Site Jobs",
   "id": "8fbb088b8660d9cb"
  },
  {
   "metadata": {},
   "cell_type": "markdown",
   "source": [
    "```SQL\n",
    "SELECT \"work_type\", COUNT(*) AS num_postings\n",
    "FROM public.\"postings\"\n",
    "WHERE \"work_type\" IN ('Remote', 'On-site')\n",
    "GROUP BY \"work_type\";\n",
    "```"
   ],
   "id": "d5177e5dafe8d450"
  },
  {
   "metadata": {},
   "cell_type": "markdown",
   "source": "Most Common Skills Required",
   "id": "a2c1e24f5cff93e2"
  },
  {
   "metadata": {},
   "cell_type": "markdown",
   "source": [
    "```SQL\n",
    "SELECT \"skills\", COUNT(*) AS num_occurrences\n",
    "FROM public.\"postings\"\n",
    "WHERE \"skills\" IS NOT NULL\n",
    "GROUP BY \"skills\"\n",
    "ORDER BY num_occurrences DESC\n",
    "LIMIT 10;\n",
    "```"
   ],
   "id": "6b4265d0a9727883"
  },
  {
   "metadata": {},
   "cell_type": "markdown",
   "source": "",
   "id": "277652d29ab143f5"
  },
  {
   "metadata": {},
   "cell_type": "markdown",
   "source": "## 1. Select all the ...",
   "id": "4ad06abe41148234"
  },
  {
   "metadata": {},
   "cell_type": "code",
   "outputs": [],
   "execution_count": null,
   "source": "",
   "id": "31c0acfc7a73048a"
  },
  {
   "metadata": {},
   "cell_type": "markdown",
   "source": "## 2. Select all the posting job for company name given by input and with requested location and for a specific job location",
   "id": "86aa842de9f799f3"
  },
  {
   "metadata": {
    "ExecuteTime": {
     "end_time": "2025-03-28T18:29:08.670599Z",
     "start_time": "2025-03-28T18:29:08.651599Z"
    }
   },
   "cell_type": "code",
   "source": [
    "company_input = widgets.Text(placeholder=\"Insert the company name\")\n",
    "location_input = widgets.Text(placeholder=\"Insert the preferred location\")\n",
    "job_title_input = widgets.Text(placeholder=\"Insert the job title\")\n",
    "search_button = widgets.Button(description=\"Look for job posting\", button_style=\"primary\")\n",
    "output = widgets.Output()\n",
    "\n",
    "\n",
    "def search_jobs(b):\n",
    "    with output:\n",
    "        output.clear_output()\n",
    "        company = company_input.value.strip() or None\n",
    "        location = location_input.value.strip() or None\n",
    "        job_title = job_title_input.value.strip() or None\n",
    "\n",
    "        conn = None\n",
    "\n",
    "        try:\n",
    "            conn = get_db_connection()\n",
    "            cur = conn.cursor()\n",
    "\n",
    "            query = '''\n",
    "            SELECT \"JOB_ID\", \"COMPANY_NAME\", \"LOCATION\", \"TITLE\" FROM public.\"POSTING\"\n",
    "            WHERE (%s IS NULL OR \"COMPANY_NAME\" ILIKE %s) \n",
    "            AND (%s IS NULL OR \"LOCATION\" ILIKE %s) \n",
    "            AND (%s IS NULL OR \"TITLE\" ILIKE %s)\n",
    "            ORDER BY \"JOB_ID\" ASC\n",
    "            LIMIT 10;\n",
    "            '''\n",
    "\n",
    "            # Prepare parameters\n",
    "            params = (\n",
    "                company, f\"%{company}%\" if company else None,\n",
    "                location, f\"%{location}%\" if location else None,\n",
    "                job_title, f\"%{job_title}%\" if job_title else None\n",
    "            )\n",
    "\n",
    "            cur.execute(query, params)\n",
    "            rows = cur.fetchall()\n",
    "\n",
    "            # Close cursor before processing results\n",
    "            cur.close()\n",
    "            conn.close()\n",
    "\n",
    "            if rows:\n",
    "                df = pd.DataFrame(rows, columns=[\"JOB_ID\", \"COMPANY_NAME\", \"LOCATION\", \"TITLE\"])\n",
    "                display(df)\n",
    "            else:\n",
    "                print(\"No job postings found with the selected parameters.\")\n",
    "\n",
    "        except psycopg2.Error as e:\n",
    "            if conn:\n",
    "                conn.rollback()  # Reset transaction state on error\n",
    "            print(f\"Database error: {e}\")\n",
    "\n",
    "        except Exception as e:\n",
    "            print(f\"Unexpected error: {e}\")\n",
    "\n",
    "        finally:\n",
    "            if conn:\n",
    "                conn.close()\n",
    "\n",
    "\n",
    "search_button.on_click(search_jobs)\n",
    "\n",
    "display(widgets.VBox([\n",
    "    widgets.Label(\"Company Name:\"), company_input,\n",
    "    widgets.Label(\"Location:\"), location_input,\n",
    "    widgets.Label(\"Job Title:\"), job_title_input,\n",
    "    search_button, output\n",
    "]))"
   ],
   "id": "55beb3d71179fd93",
   "outputs": [
    {
     "data": {
      "text/plain": [
       "VBox(children=(Label(value='Company Name:'), Text(value='', placeholder='Insert the company name'), Label(valu…"
      ],
      "application/vnd.jupyter.widget-view+json": {
       "version_major": 2,
       "version_minor": 0,
       "model_id": "5d765ae670c54c5ebe034539f5d22dc3"
      }
     },
     "metadata": {},
     "output_type": "display_data"
    }
   ],
   "execution_count": 21
  },
  {
   "metadata": {},
   "cell_type": "markdown",
   "source": "## 3. Select all the job postings for the TechGiant (more than 500 employees and in the IT industry)",
   "id": "9094811d45f0acf0"
  },
  {
   "metadata": {
    "ExecuteTime": {
     "end_time": "2025-03-28T18:49:43.320741Z",
     "start_time": "2025-03-28T18:49:43.296250Z"
    }
   },
   "cell_type": "code",
   "source": [
    "import ipywidgets as widgets\n",
    "import pandas as pd\n",
    "import psycopg2  # Ensure psycopg2 is installed\n",
    "\n",
    "# Create input fields\n",
    "industry_input = widgets.Text(placeholder=\"Insert the Industry domain\")\n",
    "company_input = widgets.Text(placeholder=\"Insert the company name\")\n",
    "search_button = widgets.Button(description=\"Look for job posting\", button_style=\"primary\")\n",
    "output = widgets.Output()\n",
    "\n",
    "\n",
    "# Function to search jobs in TechGiant companies\n",
    "def search_jobs(b):\n",
    "    with output:\n",
    "        output.clear_output()\n",
    "        company = company_input.value.strip() or None\n",
    "        industry = industry_input.value.strip() or None\n",
    "\n",
    "        conn = None\n",
    "\n",
    "        try:\n",
    "            conn = get_db_connection()\n",
    "            cur = conn.cursor()\n",
    "\n",
    "            query = '''\n",
    "            SELECT P.\"COMPANY_NAME\", P.\"VIEWS\", P.\"PAY_PERIOD\", P.\"APPLIES\", P.\"EXPIRY\", CI.\"INDUSTRY\"\n",
    "            FROM public.\"POSTING\" as P \n",
    "            JOIN public.\"COMPANY_INDUSTRY\" as CI ON P.\"COMPANY_ID\" = CI.\"COMPANY_ID\"\n",
    "            JOIN public.\"EMPLOYEE_COUNTS\" as EC ON P.\"COMPANY_ID\" = EC.\"COMPANY_ID\" \n",
    "            WHERE EC.\"EMPLOYEE_COUNT\" > 2000 \n",
    "            AND \"VIEWS\" IS NOT NULL\n",
    "            AND (%s IS NULL OR CI.\"INDUSTRY\" ILIKE %s)\n",
    "            AND (%s IS NULL OR P.\"COMPANY_NAME\" ILIKE %s) \n",
    "            ORDER BY \"VIEWS\" DESC\n",
    "            LIMIT 20;\n",
    "            '''\n",
    "\n",
    "            # Prepare parameters (matching the placeholders)\n",
    "            params = (\n",
    "                industry, f\"%{industry}%\" if industry else None,\n",
    "                company, f\"%{company}%\" if company else None\n",
    "            )\n",
    "\n",
    "            cur.execute(query, params)\n",
    "            rows = cur.fetchall()\n",
    "\n",
    "            # Close cursor before processing results\n",
    "            cur.close()\n",
    "            conn.close()\n",
    "\n",
    "            if rows:\n",
    "                df = pd.DataFrame(rows,\n",
    "                                  columns=[\"COMPANY_NAME\", \"VIEWS\", \"PAY_PERIOD\", \"APPLIES\", \"EXPIRY\", \"INDUSTRY\"])\n",
    "                display(df)\n",
    "            else:\n",
    "                print(\"No job postings found for TechGiant companies.\")\n",
    "\n",
    "        except psycopg2.Error as e:\n",
    "            if conn:\n",
    "                conn.rollback()  # Reset transaction state on error\n",
    "            print(f\"Database error: {e}\")\n",
    "\n",
    "        except Exception as e:\n",
    "            print(f\"Unexpected error: {e}\")\n",
    "\n",
    "        finally:\n",
    "            if conn:\n",
    "                conn.close()\n",
    "\n",
    "\n",
    "# Bind function to button click\n",
    "search_button.on_click(search_jobs)\n",
    "\n",
    "# Display UI\n",
    "display(widgets.VBox([\n",
    "    widgets.Label(\"Industry:\"), industry_input,\n",
    "    widgets.Label(\"Company Name:\"), company_input,\n",
    "    search_button, output\n",
    "]))"
   ],
   "id": "54ebbf7f9aaff39e",
   "outputs": [
    {
     "data": {
      "text/plain": [
       "VBox(children=(Label(value='Industry:'), Text(value='', placeholder='Insert the Industry domain'), Label(value…"
      ],
      "application/vnd.jupyter.widget-view+json": {
       "version_major": 2,
       "version_minor": 0,
       "model_id": "c0b102fa0f4e4600bca94c2ad41ddc2f"
      }
     },
     "metadata": {},
     "output_type": "display_data"
    }
   ],
   "execution_count": 35
  },
  {
   "metadata": {},
   "cell_type": "markdown",
   "source": "## 4. Select all the companies and job position requested which salary is between two values given by input. Add info such as, all the prt-time with USD payment and Monthly pay period ",
   "id": "71352120c63bbcde"
  },
  {
   "metadata": {
    "ExecuteTime": {
     "end_time": "2025-03-28T19:42:36.545193Z",
     "start_time": "2025-03-28T19:42:36.527172Z"
    }
   },
   "cell_type": "code",
   "source": [
    "currency_input = widgets.Text(placeholder=\"Currency (e.g., USD)\", description=\"Currency:\")\n",
    "job_type_input = widgets.Text(placeholder=\"Job Type (e.g., Part-time)\", description=\"Job Type:\")\n",
    "pay_period_input = widgets.Text(placeholder=\"Pay Period (e.g., Monthly)\", description=\"Pay Period:\")\n",
    "\n",
    "salary_slider = widgets.IntRangeSlider(\n",
    "    value=[0, 10000],\n",
    "    min=0,\n",
    "    max=10000,\n",
    "    step=100,\n",
    "    description=\"Salary Range:\",\n",
    "    continuous_update=False\n",
    ")\n",
    "\n",
    "search_button = widgets.Button(description=\"Look for job postings\", button_style=\"primary\")\n",
    "output = widgets.Output()\n",
    "\n",
    "def search_jobs(b):\n",
    "    with output:\n",
    "        output.clear_output()\n",
    "        currency = currency_input.value.strip() or None\n",
    "        job_type = job_type_input.value.strip() or None\n",
    "        pay_period = pay_period_input.value.strip() or None\n",
    "        min_salary, max_salary = salary_slider.value  # Get range from slider\n",
    "\n",
    "        conn = None\n",
    "\n",
    "        try:\n",
    "            conn = get_db_connection()\n",
    "            cur = conn.cursor()\n",
    "\n",
    "            query = '''\n",
    "            SELECT P.\"COMPANY_NAME\", P.\"TITLE\", P.\"PAY_PERIOD\", P.\"CURRENCY\", P.\"WORK_TYPE\", S.\"MIN_SALARY\", S.\"MAX_SALARY\"\n",
    "            FROM public.\"POSTING\" AS P JOIN public.\"SALARIES\" AS S ON P.\"JOB_ID\" = S.\"JOB_ID\"\n",
    "            WHERE\n",
    "            (%s IS NULL OR P.\"CURRENCY\" ILIKE %s)\n",
    "            AND (%s IS NULL OR P.\"WORK_TYPE\" ILIKE %s) \n",
    "            AND (%s IS NULL OR P.\"PAY_PERIOD\" ILIKE %s)\n",
    "            AND (S.\"MIN_SALARY\" >= %s)\n",
    "            AND (S.\"MAX_SALARY\" <= %s)\n",
    "            LIMIT 20;\n",
    "            '''\n",
    "\n",
    "            params = (\n",
    "                currency, f\"%{currency}%\" if currency else None,\n",
    "                job_type, f\"%{job_type}%\" if job_type else None,\n",
    "                pay_period, f\"%{pay_period}%\" if pay_period else None,\n",
    "                min_salary,\n",
    "                max_salary\n",
    "            )\n",
    "\n",
    "            start_time = time.time()\n",
    "            cur.execute(query, params)\n",
    "            rows = cur.fetchall()\n",
    "            end_time = time.time()\n",
    "            \n",
    "            execution_time = end_time - start_time\n",
    "\n",
    "            cur.close()\n",
    "            conn.close()\n",
    "\n",
    "            print(f\"Query executed in {execution_time:.4f} seconds\")\n",
    "            \n",
    "            if rows:\n",
    "                df = pd.DataFrame(rows, columns=[\"COMPANY_NAME\", \"JOB_TITLE\", \"PAY_PERIOD\", \"CURRENCY\", \"WORK_TYPE\",\n",
    "                                                 \"MIN_SALARY\", \"MAX_SALARY\"])\n",
    "                display(df)\n",
    "            else:\n",
    "                print(\"No job postings found with the given salary range and conditions.\")\n",
    "\n",
    "        except psycopg2.Error as e:\n",
    "            if conn:\n",
    "                conn.rollback()\n",
    "            print(f\"Database error: {e}\")\n",
    "\n",
    "        except Exception as e:\n",
    "            print(f\"Unexpected error: {e}\")\n",
    "\n",
    "        finally:\n",
    "            if conn:\n",
    "                conn.close()\n",
    "\n",
    "search_button.on_click(search_jobs)\n",
    "\n",
    "display(widgets.VBox([\n",
    "    widgets.Label(\"Enter Job Filters:\"),\n",
    "    currency_input,\n",
    "    job_type_input,\n",
    "    pay_period_input,\n",
    "    salary_slider,\n",
    "    search_button,\n",
    "    output\n",
    "]))"
   ],
   "id": "72cd2d6da36becc0",
   "outputs": [
    {
     "data": {
      "text/plain": [
       "VBox(children=(Label(value='Enter Job Filters:'), Text(value='', description='Currency:', placeholder='Currenc…"
      ],
      "application/vnd.jupyter.widget-view+json": {
       "version_major": 2,
       "version_minor": 0,
       "model_id": "485ae73340e54a85993fbad50ceffd9b"
      }
     },
     "metadata": {},
     "output_type": "display_data"
    }
   ],
   "execution_count": 43
  },
  {
   "metadata": {},
   "cell_type": "markdown",
   "source": "## 5. Considering today is today but one year early select all the active job postings that allows for remote working, that pay in USD, from companies with name given by input and that respect the characteristics of the logged user",
   "id": "3e5199dcd9477143"
  },
  {
   "metadata": {},
   "cell_type": "code",
   "outputs": [],
   "execution_count": null,
   "source": "",
   "id": "9e86ebe8a4883f73"
  },
  {
   "metadata": {},
   "cell_type": "markdown",
   "source": "## 6. Select all the ...",
   "id": "68536cbea73908d8"
  },
  {
   "metadata": {},
   "cell_type": "code",
   "outputs": [],
   "execution_count": null,
   "source": "",
   "id": "8f9ec47dbfbcbf68"
  },
  {
   "metadata": {},
   "cell_type": "markdown",
   "source": "## 7. Select all the ...",
   "id": "31b69f8068d1a0e8"
  },
  {
   "metadata": {},
   "cell_type": "code",
   "outputs": [],
   "execution_count": null,
   "source": "",
   "id": "22a088b26e7d3187"
  },
  {
   "metadata": {},
   "cell_type": "markdown",
   "source": "## 8. Select all the ...",
   "id": "aca09a225f82b24c"
  },
  {
   "metadata": {},
   "cell_type": "code",
   "outputs": [],
   "execution_count": null,
   "source": "",
   "id": "85742f775baa438d"
  },
  {
   "metadata": {},
   "cell_type": "markdown",
   "source": "## 9. Select all the ...",
   "id": "44e08af27d378f83"
  },
  {
   "metadata": {},
   "cell_type": "code",
   "outputs": [],
   "execution_count": null,
   "source": "",
   "id": "bad064d98d9bf4bb"
  },
  {
   "metadata": {},
   "cell_type": "markdown",
   "source": "## 10. Select all the ...",
   "id": "52bdbe3e32b8886d"
  },
  {
   "metadata": {},
   "cell_type": "code",
   "outputs": [],
   "execution_count": null,
   "source": "",
   "id": "3b26fe66f670a77c"
  },
  {
   "metadata": {},
   "cell_type": "markdown",
   "source": [
    "NOTE.\n",
    "aggiungere experience_level alla tabella USER al posto di experience\n",
    "Tramite una select prendere tutti i valori della colonna FORMATTED_EXPERIENCE_LEVEL dalla tabella posting e fare in modo che durante l inserimento da PYTHON puo essere scelto un unico valore tra questi della lista\n",
    "\n",
    "aggiungere skill_id su tabella USER\n",
    "\n",
    "prendere tutte le skill possibili (nome) dalla tabella SKILL e dare la possibilita all utente di inserire le proprie skill ognuna di queste sara una riga nella tabella di appoggio che verra creata USER_SKILL\n",
    "Quando si cerca un job posting verranno visualizzate quelle che matchano almeno un numero da scegliere di skill richieste dal job (JOB_SKILLS) e quelle dell utente loggato o registrato\n",
    "\n"
   ],
   "id": "bc05a7038aecb59b"
  }
 ],
 "metadata": {
  "kernelspec": {
   "display_name": "Python 3",
   "language": "python",
   "name": "python3"
  },
  "language_info": {
   "codemirror_mode": {
    "name": "ipython",
    "version": 2
   },
   "file_extension": ".py",
   "mimetype": "text/x-python",
   "name": "python",
   "nbconvert_exporter": "python",
   "pygments_lexer": "ipython2",
   "version": "2.7.6"
  }
 },
 "nbformat": 4,
 "nbformat_minor": 5
}
